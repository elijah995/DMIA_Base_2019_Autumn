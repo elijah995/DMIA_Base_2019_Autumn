{
 "cells": [
  {
   "cell_type": "markdown",
   "metadata": {},
   "source": [
    "# Python: часть 1"
   ]
  },
  {
   "cell_type": "markdown",
   "metadata": {},
   "source": [
    "Привет!\n",
    "\n",
    "Этот и следующий ноутбуки посвящены Питону. \n",
    "\n",
    "**Внимательный слушатель**: Но почему мы говорим про Питон, если курс по ML?\n",
    "\n",
    "**Находчивый преподаватель**: Ну потому что почти всё машинное обучение (по крайней мере первые прототипы) делается на Питоне, и мы не исключение. А чтобы делать прототипы хорошо, надо понимать язык"
   ]
  },
  {
   "cell_type": "markdown",
   "metadata": {},
   "source": [
    "# Немного про сам Python и jupyter notebook"
   ]
  },
  {
   "cell_type": "markdown",
   "metadata": {},
   "source": [
    "Python:\n",
    "- Второй и третий\n",
    "- Есть небольшие **(большие)** различия\n",
    "- Удобный и гибкий язык: свои плюсы и минусы\n",
    "\n",
    "Jupyter notebook:\n",
    "- Очень гибкий способ выразить свою мысль на Питоне\n",
    "- Порой даже слишком гибкий \n",
    "- nbextensions"
   ]
  },
  {
   "cell_type": "markdown",
   "metadata": {},
   "source": [
    "\n",
    "# Типы данных и управляющие конструкции"
   ]
  },
  {
   "cell_type": "code",
   "execution_count": null,
   "metadata": {
    "ExecuteTime": {
     "end_time": "2019-09-27T07:20:46.463765Z",
     "start_time": "2019-09-27T07:20:46.461287Z"
    }
   },
   "outputs": [],
   "source": [
    "x = 100"
   ]
  },
  {
   "cell_type": "code",
   "execution_count": null,
   "metadata": {
    "ExecuteTime": {
     "end_time": "2019-09-26T23:47:18.015235Z",
     "start_time": "2019-09-26T23:47:18.012217Z"
    },
    "scrolled": true
   },
   "outputs": [],
   "source": [
    "print x"
   ]
  },
  {
   "cell_type": "markdown",
   "metadata": {},
   "source": [
    "## 1. Числовые типы данных и арифметика"
   ]
  },
  {
   "cell_type": "markdown",
   "metadata": {},
   "source": [
    "### int"
   ]
  },
  {
   "cell_type": "code",
   "execution_count": null,
   "metadata": {
    "ExecuteTime": {
     "end_time": "2019-10-05T12:03:26.128759Z",
     "start_time": "2019-10-05T12:03:26.126441Z"
    }
   },
   "outputs": [],
   "source": [
    "x = 5"
   ]
  },
  {
   "cell_type": "code",
   "execution_count": null,
   "metadata": {
    "ExecuteTime": {
     "end_time": "2019-10-05T12:03:26.325349Z",
     "start_time": "2019-10-05T12:03:26.322312Z"
    }
   },
   "outputs": [],
   "source": [
    "print(x)"
   ]
  },
  {
   "cell_type": "code",
   "execution_count": null,
   "metadata": {
    "ExecuteTime": {
     "end_time": "2019-10-05T12:03:26.501349Z",
     "start_time": "2019-10-05T12:03:26.497331Z"
    }
   },
   "outputs": [],
   "source": [
    "print(type(x))"
   ]
  },
  {
   "cell_type": "code",
   "execution_count": null,
   "metadata": {
    "ExecuteTime": {
     "end_time": "2019-10-05T12:03:26.683151Z",
     "start_time": "2019-10-05T12:03:26.678911Z"
    }
   },
   "outputs": [],
   "source": [
    "a = 4 + 5\n",
    "b = 4 * 5\n",
    "c = 5 / 4\n",
    "\n",
    "print(a, b, c)"
   ]
  },
  {
   "cell_type": "markdown",
   "metadata": {},
   "source": [
    "### long"
   ]
  },
  {
   "cell_type": "code",
   "execution_count": null,
   "metadata": {
    "ExecuteTime": {
     "end_time": "2019-09-27T07:26:43.434384Z",
     "start_time": "2019-09-27T07:26:43.430797Z"
    }
   },
   "outputs": [],
   "source": [
    "x = 5 * 1000000 * 1000000 * 1000000 * 1000000 + 1\n",
    "print(x)\n",
    "print(type(x))"
   ]
  },
  {
   "cell_type": "code",
   "execution_count": null,
   "metadata": {
    "ExecuteTime": {
     "end_time": "2019-09-27T07:27:11.531740Z",
     "start_time": "2019-09-27T07:27:11.528908Z"
    },
    "scrolled": true
   },
   "outputs": [],
   "source": [
    "y = 5\n",
    "print(type(y))\n",
    "y = x\n",
    "print(type(y))"
   ]
  },
  {
   "cell_type": "markdown",
   "metadata": {},
   "source": [
    "### float"
   ]
  },
  {
   "cell_type": "code",
   "execution_count": null,
   "metadata": {
    "ExecuteTime": {
     "end_time": "2019-09-27T07:27:27.509242Z",
     "start_time": "2019-09-27T07:27:27.506710Z"
    }
   },
   "outputs": [],
   "source": [
    "y = 5.7"
   ]
  },
  {
   "cell_type": "code",
   "execution_count": null,
   "metadata": {
    "ExecuteTime": {
     "end_time": "2019-09-27T07:27:29.247734Z",
     "start_time": "2019-09-27T07:27:29.244616Z"
    }
   },
   "outputs": [],
   "source": [
    "print(y)\n",
    "print(type(y))"
   ]
  },
  {
   "cell_type": "code",
   "execution_count": null,
   "metadata": {
    "ExecuteTime": {
     "end_time": "2019-09-27T07:27:31.052538Z",
     "start_time": "2019-09-27T07:27:31.048836Z"
    }
   },
   "outputs": [],
   "source": [
    "a = 4.2 + 5.1\n",
    "b = 4.2 * 5.1\n",
    "c = 5.0 / 4.0\n",
    "\n",
    "print(a, b, c)"
   ]
  },
  {
   "cell_type": "code",
   "execution_count": null,
   "metadata": {
    "ExecuteTime": {
     "end_time": "2019-09-27T07:27:34.682889Z",
     "start_time": "2019-09-27T07:27:34.679472Z"
    }
   },
   "outputs": [],
   "source": [
    "a = 5\n",
    "b = 4\n",
    "print(float(a) / float(b))"
   ]
  },
  {
   "cell_type": "markdown",
   "metadata": {},
   "source": [
    "Вводить числа можно по-разному!"
   ]
  },
  {
   "cell_type": "code",
   "execution_count": null,
   "metadata": {
    "ExecuteTime": {
     "end_time": "2019-09-27T07:28:01.719781Z",
     "start_time": "2019-09-27T07:28:01.716317Z"
    }
   },
   "outputs": [],
   "source": [
    "10e5"
   ]
  },
  {
   "cell_type": "code",
   "execution_count": null,
   "metadata": {
    "scrolled": true
   },
   "outputs": [],
   "source": [
    "10e5 * (1.0 + 0.09 / 12) ** (5 * 12)"
   ]
  },
  {
   "cell_type": "markdown",
   "metadata": {},
   "source": [
    "### bool и условия"
   ]
  },
  {
   "cell_type": "code",
   "execution_count": null,
   "metadata": {
    "ExecuteTime": {
     "end_time": "2019-09-27T07:28:23.045100Z",
     "start_time": "2019-09-27T07:28:23.041178Z"
    }
   },
   "outputs": [],
   "source": [
    "a = True\n",
    "b = False\n",
    "\n",
    "print(a)\n",
    "print(type(a))\n",
    "\n",
    "print(b)\n",
    "print(type(b))"
   ]
  },
  {
   "cell_type": "code",
   "execution_count": null,
   "metadata": {
    "ExecuteTime": {
     "end_time": "2019-09-27T07:28:30.383640Z",
     "start_time": "2019-09-27T07:28:30.380115Z"
    }
   },
   "outputs": [],
   "source": [
    "print(a + b)\n",
    "print(a + a)\n",
    "print(b + b)"
   ]
  },
  {
   "cell_type": "code",
   "execution_count": null,
   "metadata": {
    "ExecuteTime": {
     "end_time": "2019-09-27T07:30:02.475992Z",
     "start_time": "2019-09-27T07:30:02.473618Z"
    }
   },
   "outputs": [],
   "source": [
    "print(int(a), int(b))"
   ]
  },
  {
   "cell_type": "code",
   "execution_count": null,
   "metadata": {
    "ExecuteTime": {
     "end_time": "2019-09-27T07:30:11.159248Z",
     "start_time": "2019-09-27T07:30:11.155852Z"
    }
   },
   "outputs": [],
   "source": [
    "print(True and False)\n",
    "print(True and True)\n",
    "print(False and False)"
   ]
  },
  {
   "cell_type": "code",
   "execution_count": null,
   "metadata": {
    "ExecuteTime": {
     "end_time": "2019-09-27T07:30:17.405945Z",
     "start_time": "2019-09-27T07:30:17.402402Z"
    }
   },
   "outputs": [],
   "source": [
    "print(True or False)\n",
    "print(True or True)\n",
    "print(False or False)"
   ]
  },
  {
   "cell_type": "markdown",
   "metadata": {},
   "source": [
    "**Условия**"
   ]
  },
  {
   "cell_type": "code",
   "execution_count": null,
   "metadata": {
    "ExecuteTime": {
     "end_time": "2019-09-27T07:30:29.295546Z",
     "start_time": "2019-09-27T07:30:29.291784Z"
    }
   },
   "outputs": [],
   "source": [
    "p = 1.0\n",
    "\n",
    "if p == 1:\n",
    "    print(\"Yes\")\n",
    "elif p == 0:\n",
    "    print(\"No\")\n",
    "else:\n",
    "    print(\"Not sure\")"
   ]
  },
  {
   "cell_type": "code",
   "execution_count": null,
   "metadata": {
    "ExecuteTime": {
     "end_time": "2019-09-27T07:31:04.745315Z",
     "start_time": "2019-09-27T07:31:04.742456Z"
    }
   },
   "outputs": [],
   "source": [
    "x = (\"Yes\" if p == 1 else \"No or not sure\")\n",
    "print(x)"
   ]
  },
  {
   "cell_type": "markdown",
   "metadata": {
    "ExecuteTime": {
     "end_time": "2019-10-05T12:04:41.634357Z",
     "start_time": "2019-10-05T12:04:41.631024Z"
    }
   },
   "source": [
    "Примеры того, что покажет вам False"
   ]
  },
  {
   "cell_type": "code",
   "execution_count": null,
   "metadata": {
    "ExecuteTime": {
     "end_time": "2019-10-05T12:04:51.956504Z",
     "start_time": "2019-10-05T12:04:51.946791Z"
    }
   },
   "outputs": [],
   "source": [
    "0, [], '', None"
   ]
  },
  {
   "cell_type": "markdown",
   "metadata": {},
   "source": [
    "## 2. None"
   ]
  },
  {
   "cell_type": "code",
   "execution_count": null,
   "metadata": {
    "ExecuteTime": {
     "end_time": "2019-09-27T07:31:56.766465Z",
     "start_time": "2019-09-27T07:31:56.763228Z"
    }
   },
   "outputs": [],
   "source": [
    "z = None\n",
    "print(z)\n",
    "print(type(z))"
   ]
  },
  {
   "cell_type": "code",
   "execution_count": null,
   "metadata": {
    "ExecuteTime": {
     "end_time": "2019-09-27T07:32:07.565267Z",
     "start_time": "2019-09-27T07:32:07.558982Z"
    },
    "scrolled": true
   },
   "outputs": [],
   "source": [
    "print(int(z))"
   ]
  },
  {
   "cell_type": "code",
   "execution_count": null,
   "metadata": {
    "ExecuteTime": {
     "end_time": "2019-09-27T07:32:38.059612Z",
     "start_time": "2019-09-27T07:32:38.056632Z"
    }
   },
   "outputs": [],
   "source": [
    "print(str(None))"
   ]
  },
  {
   "cell_type": "code",
   "execution_count": null,
   "metadata": {
    "ExecuteTime": {
     "end_time": "2019-09-27T07:33:01.103126Z",
     "start_time": "2019-09-27T07:33:01.100217Z"
    }
   },
   "outputs": [],
   "source": [
    "a = None\n",
    "print(a)"
   ]
  },
  {
   "cell_type": "markdown",
   "metadata": {},
   "source": [
    "## 3. Строки"
   ]
  },
  {
   "cell_type": "markdown",
   "metadata": {},
   "source": [
    "### str"
   ]
  },
  {
   "cell_type": "code",
   "execution_count": null,
   "metadata": {
    "ExecuteTime": {
     "end_time": "2019-09-27T07:33:44.098298Z",
     "start_time": "2019-09-27T07:33:44.094715Z"
    }
   },
   "outputs": [],
   "source": [
    "x = \"abc\"\n",
    "x = 'abc'\n",
    "print(x)\n",
    "print(type(x))"
   ]
  },
  {
   "cell_type": "code",
   "execution_count": null,
   "metadata": {
    "ExecuteTime": {
     "end_time": "2019-09-27T07:33:53.672619Z",
     "start_time": "2019-09-27T07:33:53.669234Z"
    }
   },
   "outputs": [],
   "source": [
    "a = 'Иван'\n",
    "b = \"Дрёмин\"\n",
    "s = a + \" \" + b\n",
    "print(s)"
   ]
  },
  {
   "cell_type": "code",
   "execution_count": null,
   "metadata": {
    "ExecuteTime": {
     "end_time": "2019-09-27T07:34:01.807775Z",
     "start_time": "2019-09-27T07:34:01.803676Z"
    },
    "scrolled": true
   },
   "outputs": [],
   "source": [
    "print(a.upper())\n",
    "print(a.lower())"
   ]
  },
  {
   "cell_type": "code",
   "execution_count": null,
   "metadata": {
    "ExecuteTime": {
     "end_time": "2019-09-27T07:34:06.083585Z",
     "start_time": "2019-09-27T07:34:06.080469Z"
    }
   },
   "outputs": [],
   "source": [
    "print(len(a))"
   ]
  },
  {
   "cell_type": "code",
   "execution_count": null,
   "metadata": {
    "ExecuteTime": {
     "end_time": "2019-09-27T07:34:09.035403Z",
     "start_time": "2019-09-27T07:34:09.032366Z"
    },
    "scrolled": true
   },
   "outputs": [],
   "source": [
    "print(bool(a))\n",
    "print(bool(\"\"))"
   ]
  },
  {
   "cell_type": "code",
   "execution_count": null,
   "metadata": {
    "ExecuteTime": {
     "end_time": "2019-09-27T07:34:36.272549Z",
     "start_time": "2019-09-27T07:34:36.266416Z"
    },
    "scrolled": true
   },
   "outputs": [],
   "source": [
    "print(int(a))"
   ]
  },
  {
   "cell_type": "code",
   "execution_count": null,
   "metadata": {
    "ExecuteTime": {
     "end_time": "2019-09-27T07:34:50.693711Z",
     "start_time": "2019-09-27T07:34:50.690723Z"
    }
   },
   "outputs": [],
   "source": [
    "print(int(\"5\"))"
   ]
  },
  {
   "cell_type": "code",
   "execution_count": null,
   "metadata": {},
   "outputs": [],
   "source": [
    "print(a)\n",
    "print(a[0])\n",
    "print(a[1])\n",
    "print(a[0:3])"
   ]
  },
  {
   "cell_type": "code",
   "execution_count": null,
   "metadata": {},
   "outputs": [],
   "source": [
    "print(a[0:4:2])"
   ]
  },
  {
   "cell_type": "code",
   "execution_count": null,
   "metadata": {
    "ExecuteTime": {
     "end_time": "2019-09-27T07:35:23.473638Z",
     "start_time": "2019-09-27T07:35:23.470550Z"
    }
   },
   "outputs": [],
   "source": [
    "print(a[-2])"
   ]
  },
  {
   "cell_type": "code",
   "execution_count": null,
   "metadata": {
    "scrolled": false
   },
   "outputs": [],
   "source": [
    "print(a[::-1])"
   ]
  },
  {
   "cell_type": "code",
   "execution_count": null,
   "metadata": {
    "ExecuteTime": {
     "end_time": "2019-09-27T07:35:44.803465Z",
     "start_time": "2019-09-27T07:35:44.797372Z"
    }
   },
   "outputs": [],
   "source": [
    "a[2] = 'c'"
   ]
  },
  {
   "cell_type": "markdown",
   "metadata": {},
   "source": [
    "### байтовые строки и обычные строки"
   ]
  },
  {
   "cell_type": "code",
   "execution_count": null,
   "metadata": {
    "ExecuteTime": {
     "end_time": "2019-10-05T12:05:32.175191Z",
     "start_time": "2019-10-05T12:05:32.173075Z"
    }
   },
   "outputs": [],
   "source": [
    "a = b'123'"
   ]
  },
  {
   "cell_type": "code",
   "execution_count": null,
   "metadata": {
    "ExecuteTime": {
     "end_time": "2019-10-05T12:05:32.755465Z",
     "start_time": "2019-10-05T12:05:32.751745Z"
    },
    "scrolled": true
   },
   "outputs": [],
   "source": [
    "a == '123'"
   ]
  },
  {
   "cell_type": "code",
   "execution_count": null,
   "metadata": {
    "ExecuteTime": {
     "end_time": "2019-10-05T12:05:33.267625Z",
     "start_time": "2019-10-05T12:05:33.263752Z"
    }
   },
   "outputs": [],
   "source": [
    "a.decode('utf-8') == '123'"
   ]
  },
  {
   "cell_type": "markdown",
   "metadata": {},
   "source": [
    "### разделяй и властвуй"
   ]
  },
  {
   "cell_type": "code",
   "execution_count": null,
   "metadata": {
    "ExecuteTime": {
     "end_time": "2019-09-27T07:38:54.145358Z",
     "start_time": "2019-09-27T07:38:54.142891Z"
    }
   },
   "outputs": [],
   "source": [
    "splitted_line = \"Если страны - времена года, тогда Россия - осень\".split(' ')\n",
    "print(splitted_line)"
   ]
  },
  {
   "cell_type": "code",
   "execution_count": null,
   "metadata": {
    "ExecuteTime": {
     "end_time": "2019-10-05T12:05:54.873061Z",
     "start_time": "2019-10-05T12:05:54.869710Z"
    }
   },
   "outputs": [],
   "source": [
    "a = ' '.join(['Нам', 'ничего', 'не', 'страшно'])\n",
    "print(a)"
   ]
  },
  {
   "cell_type": "code",
   "execution_count": null,
   "metadata": {
    "ExecuteTime": {
     "end_time": "2019-09-27T07:38:58.463018Z",
     "start_time": "2019-09-27T07:38:58.459977Z"
    }
   },
   "outputs": [],
   "source": [
    "print(type(splitted_line))"
   ]
  },
  {
   "cell_type": "code",
   "execution_count": null,
   "metadata": {
    "ExecuteTime": {
     "end_time": "2019-09-27T07:39:30.932303Z",
     "start_time": "2019-09-27T07:39:30.929406Z"
    }
   },
   "outputs": [],
   "source": [
    "s1 = \"\"\"Время: 10:34\n",
    "Дата: 20.05.2017\n",
    "Оценка: 1\n",
    "Длительность разговора (мин.): 0:32\n",
    "Комментарий: Общение с сотрудником вашей техподдержки мне не понравилось. Раньше всегда отвечала девушка с приятным голосом, а сегодня какой-то мужчина. Совсем никуда не годится, примите меры!!!\n",
    "\"\"\"\n",
    "\n",
    "s2 = \"\"\"Время: 9:20\n",
    "Дата: 21.05.2017\n",
    "Оценка: 5\n",
    "Длительность разговора (мин.): 25:07\n",
    "Комментарий: С моей проблемой мне помогли, большое спасибо!\n",
    "\"\"\""
   ]
  },
  {
   "cell_type": "code",
   "execution_count": null,
   "metadata": {
    "ExecuteTime": {
     "end_time": "2019-09-27T07:39:32.255640Z",
     "start_time": "2019-09-27T07:39:32.253202Z"
    }
   },
   "outputs": [],
   "source": [
    "splitted = s1.split('\\n')"
   ]
  },
  {
   "cell_type": "code",
   "execution_count": null,
   "metadata": {
    "ExecuteTime": {
     "end_time": "2019-09-27T07:39:35.099731Z",
     "start_time": "2019-09-27T07:39:35.096008Z"
    }
   },
   "outputs": [],
   "source": [
    "splitted"
   ]
  },
  {
   "cell_type": "code",
   "execution_count": null,
   "metadata": {
    "ExecuteTime": {
     "end_time": "2019-09-27T07:39:37.691754Z",
     "start_time": "2019-09-27T07:39:37.689201Z"
    }
   },
   "outputs": [],
   "source": [
    "s3 = \",\".join(splitted)"
   ]
  },
  {
   "cell_type": "code",
   "execution_count": null,
   "metadata": {
    "ExecuteTime": {
     "end_time": "2019-09-27T07:39:39.705454Z",
     "start_time": "2019-09-27T07:39:39.701754Z"
    }
   },
   "outputs": [],
   "source": [
    "s3"
   ]
  },
  {
   "cell_type": "markdown",
   "metadata": {},
   "source": [
    "## 4. Массивы и циклы"
   ]
  },
  {
   "cell_type": "markdown",
   "metadata": {},
   "source": [
    "### list"
   ]
  },
  {
   "cell_type": "code",
   "execution_count": null,
   "metadata": {
    "ExecuteTime": {
     "end_time": "2019-09-27T07:39:51.622844Z",
     "start_time": "2019-09-27T07:39:51.619731Z"
    }
   },
   "outputs": [],
   "source": [
    "saled_goods_count = [33450, 34010, 33990, 33200]\n",
    "print(saled_goods_count)\n",
    "print(type(saled_goods_count))"
   ]
  },
  {
   "cell_type": "code",
   "execution_count": null,
   "metadata": {},
   "outputs": [],
   "source": [
    "saled_goods_count.append(34000)\n",
    "print(saled_goods_count)"
   ]
  },
  {
   "cell_type": "code",
   "execution_count": null,
   "metadata": {
    "ExecuteTime": {
     "end_time": "2019-10-05T12:07:01.547953Z",
     "start_time": "2019-10-05T12:07:01.545055Z"
    }
   },
   "outputs": [],
   "source": [
    "genre = ['Рэп', 'Инди', 'Авторская']\n",
    "names = ['ATL', 'Монеточка', 'Гречка']\n",
    "\n",
    "print(genre)\n",
    "print(names)"
   ]
  },
  {
   "cell_type": "code",
   "execution_count": null,
   "metadata": {
    "ExecuteTime": {
     "end_time": "2019-10-05T12:07:01.757341Z",
     "start_time": "2019-10-05T12:07:01.754159Z"
    }
   },
   "outputs": [],
   "source": [
    "print(\"---\".join(genre))"
   ]
  },
  {
   "cell_type": "code",
   "execution_count": null,
   "metadata": {
    "ExecuteTime": {
     "end_time": "2019-10-05T12:07:01.969671Z",
     "start_time": "2019-10-05T12:07:01.966194Z"
    }
   },
   "outputs": [],
   "source": [
    "features = ['GSPD', 'Евроденс', 500000, 12, True]\n",
    "print(features)"
   ]
  },
  {
   "cell_type": "code",
   "execution_count": null,
   "metadata": {
    "ExecuteTime": {
     "end_time": "2019-10-05T12:07:02.153372Z",
     "start_time": "2019-10-05T12:07:02.149517Z"
    }
   },
   "outputs": [],
   "source": [
    "print(features[0:5])"
   ]
  },
  {
   "cell_type": "code",
   "execution_count": null,
   "metadata": {
    "ExecuteTime": {
     "end_time": "2019-10-05T12:07:02.330969Z",
     "start_time": "2019-10-05T12:07:02.327586Z"
    }
   },
   "outputs": [],
   "source": [
    "print(features[:5])"
   ]
  },
  {
   "cell_type": "code",
   "execution_count": null,
   "metadata": {
    "ExecuteTime": {
     "end_time": "2019-10-05T12:07:02.493661Z",
     "start_time": "2019-10-05T12:07:02.490244Z"
    }
   },
   "outputs": [],
   "source": [
    "print(features[::2])"
   ]
  },
  {
   "cell_type": "code",
   "execution_count": null,
   "metadata": {
    "ExecuteTime": {
     "end_time": "2019-10-05T12:07:02.644447Z",
     "start_time": "2019-10-05T12:07:02.637310Z"
    }
   },
   "outputs": [],
   "source": [
    "print(features[1:])"
   ]
  },
  {
   "cell_type": "code",
   "execution_count": null,
   "metadata": {
    "ExecuteTime": {
     "end_time": "2019-10-05T12:07:02.786015Z",
     "start_time": "2019-10-05T12:07:02.782820Z"
    }
   },
   "outputs": [],
   "source": [
    "print(features[2:5])"
   ]
  },
  {
   "cell_type": "code",
   "execution_count": null,
   "metadata": {
    "ExecuteTime": {
     "end_time": "2019-10-05T12:07:03.602015Z",
     "start_time": "2019-10-05T12:07:03.598762Z"
    },
    "scrolled": true
   },
   "outputs": [],
   "source": [
    "print(features[::-1])"
   ]
  },
  {
   "cell_type": "code",
   "execution_count": null,
   "metadata": {
    "ExecuteTime": {
     "end_time": "2019-10-05T12:07:04.025467Z",
     "start_time": "2019-10-05T12:07:04.022554Z"
    }
   },
   "outputs": [],
   "source": [
    "del features[-2]"
   ]
  },
  {
   "cell_type": "code",
   "execution_count": null,
   "metadata": {
    "ExecuteTime": {
     "end_time": "2019-09-27T07:42:06.194149Z",
     "start_time": "2019-09-27T07:42:06.191303Z"
    }
   },
   "outputs": [],
   "source": [
    "print(features)"
   ]
  },
  {
   "cell_type": "markdown",
   "metadata": {},
   "source": [
    "**Циклы**"
   ]
  },
  {
   "cell_type": "code",
   "execution_count": null,
   "metadata": {
    "ExecuteTime": {
     "end_time": "2019-10-05T12:07:32.835135Z",
     "start_time": "2019-10-05T12:07:32.831354Z"
    },
    "scrolled": true
   },
   "outputs": [],
   "source": [
    "list(range(10))"
   ]
  },
  {
   "cell_type": "code",
   "execution_count": null,
   "metadata": {
    "ExecuteTime": {
     "end_time": "2019-09-27T07:43:16.889694Z",
     "start_time": "2019-09-27T07:43:16.885778Z"
    }
   },
   "outputs": [],
   "source": [
    "for i in range(10):\n",
    "    print(i)"
   ]
  },
  {
   "cell_type": "markdown",
   "metadata": {},
   "source": [
    "**list comprehensions и генераторы**"
   ]
  },
  {
   "cell_type": "code",
   "execution_count": null,
   "metadata": {
    "ExecuteTime": {
     "end_time": "2019-09-27T07:44:23.537268Z",
     "start_time": "2019-09-27T07:44:23.533845Z"
    }
   },
   "outputs": [],
   "source": [
    "x = [k ** 2 for k in range(2, 12, 3)]\n",
    "print(type(x))\n",
    "print(x)"
   ]
  },
  {
   "cell_type": "code",
   "execution_count": null,
   "metadata": {
    "ExecuteTime": {
     "end_time": "2019-09-27T07:44:30.360968Z",
     "start_time": "2019-09-27T07:44:30.357372Z"
    }
   },
   "outputs": [],
   "source": [
    "x = [k ** 2 for k in range(2, 12, 3) if k != 8]\n",
    "print(type(x))\n",
    "print(x)"
   ]
  },
  {
   "cell_type": "code",
   "execution_count": null,
   "metadata": {
    "ExecuteTime": {
     "end_time": "2019-09-27T07:46:04.672600Z",
     "start_time": "2019-09-27T07:46:04.669041Z"
    }
   },
   "outputs": [],
   "source": [
    "x = (k ** 2 for k in range(2, 12, 3))\n",
    "print(type(x))\n",
    "print(x)"
   ]
  },
  {
   "cell_type": "code",
   "execution_count": null,
   "metadata": {
    "ExecuteTime": {
     "end_time": "2019-09-27T07:46:06.991465Z",
     "start_time": "2019-09-27T07:46:06.988595Z"
    }
   },
   "outputs": [],
   "source": [
    "for k in x:\n",
    "    print(k)"
   ]
  },
  {
   "cell_type": "code",
   "execution_count": null,
   "metadata": {
    "ExecuteTime": {
     "end_time": "2019-09-27T07:46:08.148036Z",
     "start_time": "2019-09-27T07:46:08.145645Z"
    }
   },
   "outputs": [],
   "source": [
    "for k in x:\n",
    "    print(k)"
   ]
  },
  {
   "cell_type": "markdown",
   "metadata": {},
   "source": [
    "### tuple"
   ]
  },
  {
   "cell_type": "code",
   "execution_count": null,
   "metadata": {
    "ExecuteTime": {
     "end_time": "2019-09-27T07:46:39.737223Z",
     "start_time": "2019-09-27T07:46:39.734555Z"
    },
    "scrolled": true
   },
   "outputs": [],
   "source": [
    "features_tuple = ('Ivan Ivanovich', 'Medium', 500000, 12, True)\n",
    "print(type(features_tuple))"
   ]
  },
  {
   "cell_type": "code",
   "execution_count": null,
   "metadata": {
    "ExecuteTime": {
     "end_time": "2019-09-27T07:46:42.002719Z",
     "start_time": "2019-09-27T07:46:41.999107Z"
    },
    "scrolled": true
   },
   "outputs": [],
   "source": [
    "features_tuple[2:5]"
   ]
  },
  {
   "cell_type": "code",
   "execution_count": null,
   "metadata": {
    "ExecuteTime": {
     "end_time": "2019-09-27T07:46:48.327514Z",
     "start_time": "2019-09-27T07:46:48.324958Z"
    }
   },
   "outputs": [],
   "source": [
    "features[2] = 1"
   ]
  },
  {
   "cell_type": "code",
   "execution_count": null,
   "metadata": {
    "ExecuteTime": {
     "end_time": "2019-09-27T07:46:43.736960Z",
     "start_time": "2019-09-27T07:46:43.731741Z"
    },
    "scrolled": true
   },
   "outputs": [],
   "source": [
    "features_tuple.append('one more element')"
   ]
  },
  {
   "cell_type": "markdown",
   "metadata": {},
   "source": [
    "## 4. Множества и словари"
   ]
  },
  {
   "cell_type": "markdown",
   "metadata": {},
   "source": [
    "### set"
   ]
  },
  {
   "cell_type": "code",
   "execution_count": null,
   "metadata": {
    "ExecuteTime": {
     "end_time": "2019-09-27T07:47:05.552640Z",
     "start_time": "2019-09-27T07:47:05.550053Z"
    }
   },
   "outputs": [],
   "source": [
    "names = {'Илья Лагутенко', 'Кирилл Бледный', 'Антоха МС'}"
   ]
  },
  {
   "cell_type": "code",
   "execution_count": null,
   "metadata": {
    "ExecuteTime": {
     "end_time": "2019-09-27T07:47:06.755235Z",
     "start_time": "2019-09-27T07:47:06.752086Z"
    }
   },
   "outputs": [],
   "source": [
    "print(type(names))"
   ]
  },
  {
   "cell_type": "code",
   "execution_count": null,
   "metadata": {
    "ExecuteTime": {
     "end_time": "2019-09-27T00:06:31.084946Z",
     "start_time": "2019-09-27T00:06:31.081709Z"
    }
   },
   "outputs": [],
   "source": [
    "print('Рэй Чарльз' in names)"
   ]
  },
  {
   "cell_type": "code",
   "execution_count": null,
   "metadata": {
    "ExecuteTime": {
     "end_time": "2019-09-27T07:47:20.075116Z",
     "start_time": "2019-09-27T07:47:20.072153Z"
    }
   },
   "outputs": [],
   "source": [
    "print('Антоха МС' in names)"
   ]
  },
  {
   "cell_type": "code",
   "execution_count": null,
   "metadata": {
    "ExecuteTime": {
     "end_time": "2019-09-27T07:47:29.438840Z",
     "start_time": "2019-09-27T07:47:29.435820Z"
    }
   },
   "outputs": [],
   "source": [
    "names.add('Елизавета Гырдымова')\n",
    "print(names)"
   ]
  },
  {
   "cell_type": "code",
   "execution_count": null,
   "metadata": {
    "ExecuteTime": {
     "end_time": "2019-09-27T07:47:35.023619Z",
     "start_time": "2019-09-27T07:47:35.020872Z"
    }
   },
   "outputs": [],
   "source": [
    "names.remove('Елизавета Гырдымова')\n",
    "print(names)"
   ]
  },
  {
   "cell_type": "code",
   "execution_count": null,
   "metadata": {
    "ExecuteTime": {
     "end_time": "2019-09-27T07:47:56.377591Z",
     "start_time": "2019-09-27T07:47:56.371163Z"
    }
   },
   "outputs": [],
   "source": [
    "names.add(['Vladimir', 'Vladimirovich'])"
   ]
  },
  {
   "cell_type": "code",
   "execution_count": null,
   "metadata": {
    "ExecuteTime": {
     "end_time": "2019-09-27T07:48:02.705007Z",
     "start_time": "2019-09-27T07:48:02.701994Z"
    }
   },
   "outputs": [],
   "source": [
    "names.add(('Vladimir', 'Vladimirovich'))\n",
    "print(names)"
   ]
  },
  {
   "cell_type": "code",
   "execution_count": null,
   "metadata": {
    "ExecuteTime": {
     "end_time": "2019-09-27T07:48:14.669486Z",
     "start_time": "2019-09-27T07:48:14.546289Z"
    }
   },
   "outputs": [],
   "source": [
    "a = list(range(1000000))\n",
    "b = list(range(1000000))\n",
    "b = set(b)"
   ]
  },
  {
   "cell_type": "code",
   "execution_count": null,
   "metadata": {
    "ExecuteTime": {
     "end_time": "2019-09-27T07:48:21.890686Z",
     "start_time": "2019-09-27T07:48:21.887297Z"
    }
   },
   "outputs": [],
   "source": [
    "print(a[:5])\n",
    "print(a[-5:])"
   ]
  },
  {
   "cell_type": "code",
   "execution_count": null,
   "metadata": {
    "ExecuteTime": {
     "end_time": "2019-09-27T07:48:41.269057Z",
     "start_time": "2019-09-27T07:48:41.249661Z"
    }
   },
   "outputs": [],
   "source": [
    "%%time\n",
    "print(9999999 in a)"
   ]
  },
  {
   "cell_type": "code",
   "execution_count": null,
   "metadata": {
    "ExecuteTime": {
     "end_time": "2019-09-27T07:48:49.101508Z",
     "start_time": "2019-09-27T07:48:49.097883Z"
    }
   },
   "outputs": [],
   "source": [
    "%%time\n",
    "print(9999999 in b)"
   ]
  },
  {
   "cell_type": "markdown",
   "metadata": {},
   "source": [
    "### dict"
   ]
  },
  {
   "cell_type": "code",
   "execution_count": null,
   "metadata": {
    "ExecuteTime": {
     "end_time": "2019-09-27T07:49:06.059318Z",
     "start_time": "2019-09-27T07:49:06.056582Z"
    }
   },
   "outputs": [],
   "source": [
    "words_frequencies = dict()\n",
    "words_frequencies['I'] = 2\n",
    "words_frequencies['am'] = 1\n",
    "words_frequencies['I'] += 1\n",
    "\n",
    "print(words_frequencies)"
   ]
  },
  {
   "cell_type": "code",
   "execution_count": null,
   "metadata": {
    "ExecuteTime": {
     "end_time": "2019-09-27T07:49:14.503743Z",
     "start_time": "2019-09-27T07:49:14.500786Z"
    }
   },
   "outputs": [],
   "source": [
    "print(words_frequencies['I'])"
   ]
  },
  {
   "cell_type": "code",
   "execution_count": null,
   "metadata": {
    "ExecuteTime": {
     "end_time": "2019-09-27T07:49:49.767362Z",
     "start_time": "2019-09-27T07:49:49.764285Z"
    }
   },
   "outputs": [],
   "source": [
    "words_frequencies = {'I': 2, 'am': 1}\n",
    "print(words_frequencies)"
   ]
  },
  {
   "cell_type": "code",
   "execution_count": null,
   "metadata": {
    "ExecuteTime": {
     "end_time": "2019-09-27T07:49:58.754813Z",
     "start_time": "2019-09-27T07:49:58.751613Z"
    }
   },
   "outputs": [],
   "source": [
    "yet_another_dict = {'abc': 3.4, 5: 7.8, '123': None}\n",
    "print(yet_another_dict)"
   ]
  },
  {
   "cell_type": "code",
   "execution_count": null,
   "metadata": {
    "ExecuteTime": {
     "end_time": "2019-09-27T07:50:00.629988Z",
     "start_time": "2019-09-27T07:50:00.626560Z"
    }
   },
   "outputs": [],
   "source": [
    "yet_another_dict[(1,2,5)] = [4, 5, 7]\n",
    "print(yet_another_dict)"
   ]
  },
  {
   "cell_type": "code",
   "execution_count": null,
   "metadata": {
    "ExecuteTime": {
     "end_time": "2019-09-27T07:50:12.410505Z",
     "start_time": "2019-09-27T07:50:12.408333Z"
    }
   },
   "outputs": [],
   "source": [
    "yet_another_dict[(1,2,7)] = [4, 5]"
   ]
  },
  {
   "cell_type": "markdown",
   "metadata": {},
   "source": [
    "### Counter"
   ]
  },
  {
   "cell_type": "code",
   "execution_count": null,
   "metadata": {
    "ExecuteTime": {
     "end_time": "2019-10-05T12:11:05.491793Z",
     "start_time": "2019-10-05T12:11:05.489289Z"
    }
   },
   "outputs": [],
   "source": [
    "from collections import Counter"
   ]
  },
  {
   "cell_type": "code",
   "execution_count": null,
   "metadata": {
    "ExecuteTime": {
     "end_time": "2019-10-05T12:11:05.656941Z",
     "start_time": "2019-10-05T12:11:05.654322Z"
    }
   },
   "outputs": [],
   "source": [
    "d = Counter()"
   ]
  },
  {
   "cell_type": "code",
   "execution_count": null,
   "metadata": {
    "ExecuteTime": {
     "end_time": "2019-10-05T12:11:05.888624Z",
     "start_time": "2019-10-05T12:11:05.886080Z"
    }
   },
   "outputs": [],
   "source": [
    "d['found'] += 1"
   ]
  },
  {
   "cell_type": "code",
   "execution_count": null,
   "metadata": {},
   "outputs": [],
   "source": []
  }
 ],
 "metadata": {
  "anaconda-cloud": {},
  "kernelspec": {
   "display_name": "Python 3",
   "language": "python",
   "name": "python3"
  },
  "language_info": {
   "codemirror_mode": {
    "name": "ipython",
    "version": 3
   },
   "file_extension": ".py",
   "mimetype": "text/x-python",
   "name": "python",
   "nbconvert_exporter": "python",
   "pygments_lexer": "ipython3",
   "version": "3.6.5"
  },
  "toc": {
   "base_numbering": 1,
   "nav_menu": {},
   "number_sections": true,
   "sideBar": true,
   "skip_h1_title": false,
   "title_cell": "Table of Contents",
   "title_sidebar": "Contents",
   "toc_cell": false,
   "toc_position": {
    "height": "calc(100% - 180px)",
    "left": "10px",
    "top": "150px",
    "width": "336px"
   },
   "toc_section_display": true,
   "toc_window_display": true
  }
 },
 "nbformat": 4,
 "nbformat_minor": 1
}
