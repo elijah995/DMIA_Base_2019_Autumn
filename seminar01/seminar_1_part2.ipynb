{
 "cells": [
  {
   "cell_type": "markdown",
   "metadata": {},
   "source": [
    "# Синтаксис Python: часть 2\n",
    "## Функции, lambda-функции, работа с библиотечными модулями и функциями."
   ]
  },
  {
   "cell_type": "markdown",
   "metadata": {},
   "source": [
    "### Напоминание про списки"
   ]
  },
  {
   "cell_type": "markdown",
   "metadata": {},
   "source": [
    "#### Распаковка списков"
   ]
  },
  {
   "cell_type": "code",
   "execution_count": null,
   "metadata": {
    "ExecuteTime": {
     "end_time": "2019-09-27T07:55:31.962014Z",
     "start_time": "2019-09-27T07:55:31.959521Z"
    }
   },
   "outputs": [],
   "source": [
    "x, y = 1, 'a'"
   ]
  },
  {
   "cell_type": "code",
   "execution_count": null,
   "metadata": {
    "ExecuteTime": {
     "end_time": "2019-09-27T07:55:44.375060Z",
     "start_time": "2019-09-27T07:55:44.371129Z"
    }
   },
   "outputs": [],
   "source": [
    "x, y = (1, 'a')\n",
    "print(x, y)\n",
    "x, y = [1, 'a']\n",
    "print(x, y)"
   ]
  },
  {
   "cell_type": "code",
   "execution_count": null,
   "metadata": {
    "ExecuteTime": {
     "end_time": "2019-09-27T07:56:16.494417Z",
     "start_time": "2019-09-27T07:56:16.491329Z"
    }
   },
   "outputs": [],
   "source": [
    "x, y = y, x\n",
    "print(x)\n",
    "print(y)"
   ]
  },
  {
   "cell_type": "markdown",
   "metadata": {},
   "source": [
    "### В Python есть встроенные функции, которыми можно пользоваться по умолчанию. Вот некоторые из них"
   ]
  },
  {
   "cell_type": "markdown",
   "metadata": {},
   "source": [
    "#### range"
   ]
  },
  {
   "cell_type": "code",
   "execution_count": null,
   "metadata": {
    "ExecuteTime": {
     "end_time": "2019-09-27T07:56:21.487005Z",
     "start_time": "2019-09-27T07:56:21.483489Z"
    }
   },
   "outputs": [],
   "source": [
    "range(10)"
   ]
  },
  {
   "cell_type": "code",
   "execution_count": null,
   "metadata": {
    "ExecuteTime": {
     "end_time": "2019-09-27T07:56:22.356994Z",
     "start_time": "2019-09-27T07:56:22.354041Z"
    }
   },
   "outputs": [],
   "source": [
    "range(3, 10, 2)"
   ]
  },
  {
   "cell_type": "markdown",
   "metadata": {},
   "source": [
    "#### zip"
   ]
  },
  {
   "cell_type": "code",
   "execution_count": null,
   "metadata": {
    "ExecuteTime": {
     "end_time": "2019-09-27T07:56:38.351521Z",
     "start_time": "2019-09-27T07:56:38.347534Z"
    }
   },
   "outputs": [],
   "source": [
    "a = ['a', 'b', 7]\n",
    "b = [1, None, 'q']\n",
    "print(type(list(zip(a, b))))\n",
    "print(list(zip(a, b)))"
   ]
  },
  {
   "cell_type": "code",
   "execution_count": null,
   "metadata": {
    "ExecuteTime": {
     "end_time": "2019-09-27T07:56:42.539611Z",
     "start_time": "2019-09-27T07:56:42.536656Z"
    }
   },
   "outputs": [],
   "source": [
    "for x in zip(a, b):\n",
    "    print(x)"
   ]
  },
  {
   "cell_type": "code",
   "execution_count": null,
   "metadata": {
    "ExecuteTime": {
     "end_time": "2019-10-05T12:12:09.392271Z",
     "start_time": "2019-10-05T12:12:09.388030Z"
    }
   },
   "outputs": [],
   "source": [
    "a = [1,2,3,4,5,6]\n",
    "b = [7,8,9]\n",
    "\n",
    "for el in zip(a,b):\n",
    "    print(el)"
   ]
  },
  {
   "cell_type": "markdown",
   "metadata": {},
   "source": [
    "#### enumerate"
   ]
  },
  {
   "cell_type": "code",
   "execution_count": null,
   "metadata": {
    "ExecuteTime": {
     "end_time": "2019-09-27T00:17:47.398801Z",
     "start_time": "2019-09-27T00:17:47.394329Z"
    }
   },
   "outputs": [],
   "source": [
    "my_list = ['a', 'b', 'c']\n",
    "print(list(zip(list(range(len(my_list))), my_list)))"
   ]
  },
  {
   "cell_type": "code",
   "execution_count": null,
   "metadata": {
    "ExecuteTime": {
     "end_time": "2019-09-27T08:00:46.567722Z",
     "start_time": "2019-09-27T08:00:46.564231Z"
    }
   },
   "outputs": [],
   "source": [
    "print(type(enumerate(my_list)))\n",
    "print(enumerate(my_list))"
   ]
  },
  {
   "cell_type": "code",
   "execution_count": null,
   "metadata": {
    "ExecuteTime": {
     "end_time": "2019-09-27T08:00:46.764523Z",
     "start_time": "2019-09-27T08:00:46.761171Z"
    }
   },
   "outputs": [],
   "source": [
    "for x in enumerate(my_list):\n",
    "    print(x)"
   ]
  },
  {
   "cell_type": "code",
   "execution_count": null,
   "metadata": {
    "ExecuteTime": {
     "end_time": "2019-09-27T08:01:00.842092Z",
     "start_time": "2019-09-27T08:01:00.838198Z"
    }
   },
   "outputs": [],
   "source": [
    "for index, value in enumerate(my_list):\n",
    "    print(index, value)"
   ]
  },
  {
   "cell_type": "code",
   "execution_count": null,
   "metadata": {
    "ExecuteTime": {
     "end_time": "2019-09-27T08:01:06.418263Z",
     "start_time": "2019-09-27T08:01:06.415218Z"
    }
   },
   "outputs": [],
   "source": [
    "list(enumerate(my_list))"
   ]
  },
  {
   "cell_type": "markdown",
   "metadata": {},
   "source": [
    "## Немного о функциях"
   ]
  },
  {
   "cell_type": "markdown",
   "metadata": {},
   "source": [
    "#### Переменное число аргументов"
   ]
  },
  {
   "cell_type": "code",
   "execution_count": null,
   "metadata": {
    "ExecuteTime": {
     "end_time": "2019-09-27T08:06:02.476246Z",
     "start_time": "2019-09-27T08:06:02.472902Z"
    }
   },
   "outputs": [],
   "source": [
    "def foo(*args, **kwargs):\n",
    "    print(args)\n",
    "    print(kwargs)\n",
    "\n",
    "foo(1,2,3, num=True, srsly=False)"
   ]
  },
  {
   "cell_type": "code",
   "execution_count": null,
   "metadata": {
    "ExecuteTime": {
     "end_time": "2019-09-27T08:07:30.511108Z",
     "start_time": "2019-09-27T08:07:30.508670Z"
    }
   },
   "outputs": [],
   "source": [
    "def my_sum(*values):\n",
    "    return sum(values)"
   ]
  },
  {
   "cell_type": "code",
   "execution_count": null,
   "metadata": {
    "ExecuteTime": {
     "end_time": "2019-09-27T08:07:30.872269Z",
     "start_time": "2019-09-27T08:07:30.868822Z"
    }
   },
   "outputs": [],
   "source": [
    "my_sum()"
   ]
  },
  {
   "cell_type": "code",
   "execution_count": null,
   "metadata": {
    "ExecuteTime": {
     "end_time": "2019-09-27T08:07:31.804133Z",
     "start_time": "2019-09-27T08:07:31.801281Z"
    }
   },
   "outputs": [],
   "source": [
    "my_sum(10)"
   ]
  },
  {
   "cell_type": "code",
   "execution_count": null,
   "metadata": {
    "ExecuteTime": {
     "end_time": "2019-09-27T08:07:32.695566Z",
     "start_time": "2019-09-27T08:07:32.692060Z"
    }
   },
   "outputs": [],
   "source": [
    "my_sum(1, 3)"
   ]
  },
  {
   "cell_type": "code",
   "execution_count": null,
   "metadata": {
    "ExecuteTime": {
     "end_time": "2019-09-27T00:19:12.962806Z",
     "start_time": "2019-09-27T00:19:12.958741Z"
    }
   },
   "outputs": [],
   "source": [
    "my_sum(1, 3, -1)"
   ]
  },
  {
   "cell_type": "markdown",
   "metadata": {},
   "source": [
    "#### Аргументы по умолчанию"
   ]
  },
  {
   "cell_type": "code",
   "execution_count": null,
   "metadata": {
    "ExecuteTime": {
     "end_time": "2019-09-27T08:07:40.130391Z",
     "start_time": "2019-09-27T08:07:40.127750Z"
    }
   },
   "outputs": [],
   "source": [
    "def f(x, y=5):\n",
    "    return x + y"
   ]
  },
  {
   "cell_type": "code",
   "execution_count": null,
   "metadata": {
    "ExecuteTime": {
     "end_time": "2019-09-27T08:07:41.198621Z",
     "start_time": "2019-09-27T08:07:41.195275Z"
    }
   },
   "outputs": [],
   "source": [
    "f(0, 0)"
   ]
  },
  {
   "cell_type": "code",
   "execution_count": null,
   "metadata": {
    "ExecuteTime": {
     "end_time": "2019-09-27T00:19:15.009232Z",
     "start_time": "2019-09-27T00:19:15.005560Z"
    }
   },
   "outputs": [],
   "source": [
    "f(0, 3)"
   ]
  },
  {
   "cell_type": "code",
   "execution_count": null,
   "metadata": {
    "ExecuteTime": {
     "end_time": "2019-09-27T08:07:49.979113Z",
     "start_time": "2019-09-27T08:07:49.976142Z"
    }
   },
   "outputs": [],
   "source": [
    "f(0)"
   ]
  },
  {
   "cell_type": "code",
   "execution_count": null,
   "metadata": {
    "ExecuteTime": {
     "end_time": "2019-09-27T00:19:15.395899Z",
     "start_time": "2019-09-27T00:19:15.392146Z"
    }
   },
   "outputs": [],
   "source": [
    "f(x=0)"
   ]
  },
  {
   "cell_type": "code",
   "execution_count": null,
   "metadata": {
    "ExecuteTime": {
     "end_time": "2019-09-27T08:08:19.665845Z",
     "start_time": "2019-09-27T08:08:19.662090Z"
    }
   },
   "outputs": [],
   "source": [
    "f(5, y=0)"
   ]
  },
  {
   "cell_type": "code",
   "execution_count": null,
   "metadata": {
    "ExecuteTime": {
     "end_time": "2019-09-27T08:08:21.318279Z",
     "start_time": "2019-09-27T08:08:21.314748Z"
    }
   },
   "outputs": [],
   "source": [
    "f(x=0, y=5)"
   ]
  },
  {
   "cell_type": "code",
   "execution_count": null,
   "metadata": {
    "ExecuteTime": {
     "end_time": "2019-09-27T08:08:23.035230Z",
     "start_time": "2019-09-27T08:08:23.028997Z"
    }
   },
   "outputs": [],
   "source": [
    "f(0, x=0, y=5)"
   ]
  },
  {
   "cell_type": "markdown",
   "metadata": {},
   "source": [
    "#### Осторожнее с аргументами по умолчанию"
   ]
  },
  {
   "cell_type": "code",
   "execution_count": null,
   "metadata": {
    "ExecuteTime": {
     "end_time": "2019-09-27T08:09:24.212355Z",
     "start_time": "2019-09-27T08:09:24.209533Z"
    }
   },
   "outputs": [],
   "source": [
    "a = [1,2,3]\n",
    "b = a[::]\n",
    "b[0] = 0"
   ]
  },
  {
   "cell_type": "code",
   "execution_count": null,
   "metadata": {
    "ExecuteTime": {
     "end_time": "2019-09-27T08:09:30.103193Z",
     "start_time": "2019-09-27T08:09:30.099726Z"
    }
   },
   "outputs": [],
   "source": [
    "a is b"
   ]
  },
  {
   "cell_type": "code",
   "execution_count": null,
   "metadata": {
    "ExecuteTime": {
     "end_time": "2019-09-27T08:12:27.746770Z",
     "start_time": "2019-09-27T08:12:27.743627Z"
    }
   },
   "outputs": [],
   "source": [
    "def f(x, my_list=[]):\n",
    "    if my_list is None:\n",
    "        my_list = []\n",
    "    \n",
    "    my_list.append(x)\n",
    "    return sum(my_list)"
   ]
  },
  {
   "cell_type": "code",
   "execution_count": null,
   "metadata": {
    "ExecuteTime": {
     "end_time": "2019-09-27T08:10:12.483021Z",
     "start_time": "2019-09-27T08:10:12.478306Z"
    }
   },
   "outputs": [],
   "source": [
    "print(f(0))\n",
    "print(f(1, [1, 2]))\n",
    "print(f(2, [4]))\n",
    "print(f(3))\n",
    "print(f(4, []))\n",
    "print(f(5))"
   ]
  },
  {
   "cell_type": "code",
   "execution_count": null,
   "metadata": {
    "ExecuteTime": {
     "end_time": "2019-09-27T08:11:19.691206Z",
     "start_time": "2019-09-27T08:11:19.688394Z"
    }
   },
   "outputs": [],
   "source": [
    "print(f(300))"
   ]
  },
  {
   "cell_type": "code",
   "execution_count": null,
   "metadata": {
    "ExecuteTime": {
     "end_time": "2019-09-27T00:19:28.259882Z",
     "start_time": "2019-09-27T00:19:28.256927Z"
    }
   },
   "outputs": [],
   "source": [
    "def f(x, my_list=[]):\n",
    "    my_list.append(x)\n",
    "    print(my_list)\n",
    "    return sum(my_list)"
   ]
  },
  {
   "cell_type": "code",
   "execution_count": null,
   "metadata": {
    "ExecuteTime": {
     "end_time": "2019-09-27T00:19:28.523275Z",
     "start_time": "2019-09-27T00:19:28.518371Z"
    }
   },
   "outputs": [],
   "source": [
    "print(f(0))\n",
    "print(f(1, [1, 2]))\n",
    "print(f(2, [4]))\n",
    "print(f(3))\n",
    "print(f(4, []))\n",
    "print(f(5))"
   ]
  },
  {
   "cell_type": "markdown",
   "metadata": {},
   "source": [
    "Правильно делать так:"
   ]
  },
  {
   "cell_type": "code",
   "execution_count": null,
   "metadata": {
    "ExecuteTime": {
     "end_time": "2019-09-27T00:19:31.294239Z",
     "start_time": "2019-09-27T00:19:31.291203Z"
    }
   },
   "outputs": [],
   "source": [
    "def f(x, my_list=None):\n",
    "    if my_list is None:\n",
    "        my_list = []\n",
    "    my_list.append(x)\n",
    "    return sum(my_list)"
   ]
  },
  {
   "cell_type": "code",
   "execution_count": null,
   "metadata": {
    "ExecuteTime": {
     "end_time": "2019-09-27T00:19:31.762456Z",
     "start_time": "2019-09-27T00:19:31.756632Z"
    },
    "scrolled": true
   },
   "outputs": [],
   "source": [
    "print(f(0))\n",
    "print(f(1, [1, 2]))\n",
    "print(f(2, [4]))\n",
    "print(f(3))\n",
    "print(f(4, []))\n",
    "print(f(5))"
   ]
  },
  {
   "cell_type": "markdown",
   "metadata": {},
   "source": [
    "## Лямбда функции"
   ]
  },
  {
   "cell_type": "markdown",
   "metadata": {},
   "source": [
    "Лямбда функции позволяют создавать безымянные функции"
   ]
  },
  {
   "cell_type": "code",
   "execution_count": null,
   "metadata": {
    "ExecuteTime": {
     "end_time": "2019-09-27T08:16:56.009536Z",
     "start_time": "2019-09-27T08:16:56.006813Z"
    }
   },
   "outputs": [],
   "source": [
    "def f(x):\n",
    "    return x + 1\n",
    "\n",
    "g = lambda x: x + 1"
   ]
  },
  {
   "cell_type": "code",
   "execution_count": null,
   "metadata": {
    "ExecuteTime": {
     "end_time": "2019-09-27T08:17:07.110939Z",
     "start_time": "2019-09-27T08:17:07.107307Z"
    }
   },
   "outputs": [],
   "source": [
    "print(f(1), g(1))\n",
    "print(f(1000), g(1000))"
   ]
  },
  {
   "cell_type": "code",
   "execution_count": null,
   "metadata": {
    "ExecuteTime": {
     "end_time": "2019-09-27T08:17:11.622271Z",
     "start_time": "2019-09-27T08:17:11.619220Z"
    }
   },
   "outputs": [],
   "source": [
    "g = lambda x, y: x + y\n",
    "print(g(2, 3))"
   ]
  },
  {
   "cell_type": "code",
   "execution_count": null,
   "metadata": {
    "ExecuteTime": {
     "end_time": "2019-09-27T08:17:16.236381Z",
     "start_time": "2019-09-27T08:17:16.229821Z"
    }
   },
   "outputs": [],
   "source": [
    "g = lambda x_y: x_y[0] + x_y[1]\n",
    "print(g(2, 3))"
   ]
  },
  {
   "cell_type": "code",
   "execution_count": null,
   "metadata": {
    "ExecuteTime": {
     "end_time": "2019-09-27T08:17:44.680236Z",
     "start_time": "2019-09-27T08:17:44.677243Z"
    },
    "scrolled": true
   },
   "outputs": [],
   "source": [
    "g = lambda x_y: x_y[0] + x_y[1]\n",
    "print(g((2, 3)))"
   ]
  },
  {
   "cell_type": "markdown",
   "metadata": {},
   "source": [
    "так лучше не использовать"
   ]
  },
  {
   "cell_type": "code",
   "execution_count": null,
   "metadata": {
    "ExecuteTime": {
     "end_time": "2019-10-05T12:14:46.074220Z",
     "start_time": "2019-10-05T12:14:46.071540Z"
    }
   },
   "outputs": [],
   "source": [
    "my_list = [[0, 1], [9, 8], [5, -10]]"
   ]
  },
  {
   "cell_type": "code",
   "execution_count": null,
   "metadata": {
    "ExecuteTime": {
     "end_time": "2019-10-05T12:14:46.470037Z",
     "start_time": "2019-10-05T12:14:46.466597Z"
    }
   },
   "outputs": [],
   "source": [
    "print(sorted(my_list, key=lambda x_y: x_y[1]))"
   ]
  },
  {
   "cell_type": "markdown",
   "metadata": {},
   "source": [
    "# Работа с модулями\n",
    "## Полезные стандартные библиотеки:\n",
    "\n",
    "1. itertools\n",
    "2. collections\n",
    "3. math\n",
    "4. sys\n",
    "5. os\n",
    "6. time\n",
    "7. datetime\n",
    "8. random\n",
    "\n",
    "и многие другие на сайте https://docs.python.org/2/"
   ]
  },
  {
   "cell_type": "code",
   "execution_count": null,
   "metadata": {},
   "outputs": [],
   "source": []
  },
  {
   "cell_type": "markdown",
   "metadata": {},
   "source": [
    "Пример комбинирования разных библиотек"
   ]
  },
  {
   "cell_type": "code",
   "execution_count": null,
   "metadata": {
    "ExecuteTime": {
     "end_time": "2019-09-27T08:24:46.950693Z",
     "start_time": "2019-09-27T08:24:46.948369Z"
    }
   },
   "outputs": [],
   "source": [
    "import random\n",
    "import time\n",
    "import sys"
   ]
  },
  {
   "cell_type": "code",
   "execution_count": null,
   "metadata": {
    "ExecuteTime": {
     "end_time": "2019-09-27T08:25:24.505184Z",
     "start_time": "2019-09-27T08:25:24.426094Z"
    }
   },
   "outputs": [],
   "source": [
    "start = time.time() # узнаём текущее время\n",
    "objects_dict = { # создаём большой словарь, ключом является число, а значением словарь из трёх случайных полей\n",
    "    x: {\n",
    "        'first_property': random.random(),\n",
    "        'second_property': random.random(),\n",
    "        'fourth_property': random.random(),\n",
    "    }\n",
    "    for x in range(100000)\n",
    "}\n",
    "# смотрим сколько байт занимает один объект в памяти\n",
    "print('dict object size is', sys.getsizeof(objects_dict[0]))\n",
    "\n",
    "finish = time.time() # время окончания\n",
    "print('Spent {:.3f} seconds'.format(finish - start))"
   ]
  },
  {
   "cell_type": "code",
   "execution_count": null,
   "metadata": {},
   "outputs": [],
   "source": []
  },
  {
   "cell_type": "code",
   "execution_count": null,
   "metadata": {},
   "outputs": [],
   "source": []
  },
  {
   "cell_type": "code",
   "execution_count": null,
   "metadata": {},
   "outputs": [],
   "source": []
  }
 ],
 "metadata": {
  "kernelspec": {
   "display_name": "Python 3",
   "language": "python",
   "name": "python3"
  },
  "language_info": {
   "codemirror_mode": {
    "name": "ipython",
    "version": 3
   },
   "file_extension": ".py",
   "mimetype": "text/x-python",
   "name": "python",
   "nbconvert_exporter": "python",
   "pygments_lexer": "ipython3",
   "version": "3.6.5"
  },
  "toc": {
   "base_numbering": 1,
   "nav_menu": {},
   "number_sections": true,
   "sideBar": true,
   "skip_h1_title": false,
   "title_cell": "Table of Contents",
   "title_sidebar": "Contents",
   "toc_cell": false,
   "toc_position": {
    "height": "calc(100% - 180px)",
    "left": "10px",
    "top": "150px",
    "width": "336px"
   },
   "toc_section_display": true,
   "toc_window_display": true
  }
 },
 "nbformat": 4,
 "nbformat_minor": 2
}
