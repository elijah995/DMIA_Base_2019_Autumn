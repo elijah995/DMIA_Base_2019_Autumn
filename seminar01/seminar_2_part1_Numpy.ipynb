{
 "cells": [
  {
   "cell_type": "markdown",
   "metadata": {},
   "source": [
    "# Numpy"
   ]
  },
  {
   "cell_type": "markdown",
   "metadata": {},
   "source": [
    "В Python есть встроенные:\n",
    "    1. списки и словари\n",
    "    2. числовые объекты (целые числа, числа с плавующей точкой)\n",
    "\n",
    "Numpy это дополнительный модуль для Python для многомерных массивов и эффективных вычислений над числами.\n",
    "Эта библиотека ближе к hardware (использует типы из C, которые существенно быстрее чем Python типы), за счёт чего более эффективна при вычислениях."
   ]
  },
  {
   "cell_type": "code",
   "execution_count": null,
   "metadata": {
    "ExecuteTime": {
     "end_time": "2019-09-27T09:02:08.015536Z",
     "start_time": "2019-09-27T09:02:07.898977Z"
    }
   },
   "outputs": [],
   "source": [
    "import numpy as np"
   ]
  },
  {
   "cell_type": "markdown",
   "metadata": {},
   "source": [
    "## Основные типы данных"
   ]
  },
  {
   "cell_type": "markdown",
   "metadata": {},
   "source": [
    "В Python есть типы: bool, int, float, complex\n",
    "\n",
    "В numpy имеются эти типы, а также обёртки над этими типами, которые используют реализацию типов на C, например, int8, int16, int32, int64.\n",
    "\n",
    "Число означает сколько бит используется для хранения числа.\n",
    "\n",
    "За счёт того, что используются типы данных из C, numpy получает ускорение операций."
   ]
  },
  {
   "cell_type": "code",
   "execution_count": null,
   "metadata": {
    "ExecuteTime": {
     "end_time": "2019-09-27T09:02:09.376192Z",
     "start_time": "2019-09-27T09:02:09.372555Z"
    }
   },
   "outputs": [],
   "source": [
    "type(np.bool)"
   ]
  },
  {
   "cell_type": "code",
   "execution_count": null,
   "metadata": {
    "ExecuteTime": {
     "end_time": "2019-09-27T09:02:11.923740Z",
     "start_time": "2019-09-27T09:02:11.920425Z"
    }
   },
   "outputs": [],
   "source": [
    "np.bool()"
   ]
  },
  {
   "cell_type": "markdown",
   "metadata": {},
   "source": [
    "np.int - тип из Python\n",
    "\n",
    "np.int32 и np.int64 - типы из C 32-битный и 64-битный"
   ]
  },
  {
   "cell_type": "code",
   "execution_count": null,
   "metadata": {
    "ExecuteTime": {
     "end_time": "2019-09-27T09:02:24.269430Z",
     "start_time": "2019-09-27T09:02:24.265469Z"
    }
   },
   "outputs": [],
   "source": [
    "type(np.int), type(np.int32), type(np.int64)"
   ]
  },
  {
   "cell_type": "code",
   "execution_count": null,
   "metadata": {
    "ExecuteTime": {
     "end_time": "2019-09-27T09:02:26.112356Z",
     "start_time": "2019-09-27T09:02:26.108368Z"
    }
   },
   "outputs": [],
   "source": [
    "np.int(), np.int32(), np.int64()"
   ]
  },
  {
   "cell_type": "code",
   "execution_count": null,
   "metadata": {
    "ExecuteTime": {
     "end_time": "2019-09-27T09:02:28.278611Z",
     "start_time": "2019-09-27T09:02:28.274723Z"
    }
   },
   "outputs": [],
   "source": [
    "type(np.int()), type(np.int32()), type(np.int64())"
   ]
  },
  {
   "cell_type": "markdown",
   "metadata": {},
   "source": [
    "В Python есть длинная арифметика, поэтому можно любые числа хранить"
   ]
  },
  {
   "cell_type": "code",
   "execution_count": null,
   "metadata": {
    "ExecuteTime": {
     "end_time": "2019-09-27T09:02:32.617301Z",
     "start_time": "2019-09-27T09:02:32.614003Z"
    }
   },
   "outputs": [],
   "source": [
    "print(np.int(1e18)) # обёртка питоновского типа"
   ]
  },
  {
   "cell_type": "markdown",
   "metadata": {},
   "source": [
    "32-битный int в C хранит числа от −2147483648 до 2147483647 на $10^{18}$ не хватит, чтобы хранить"
   ]
  },
  {
   "cell_type": "code",
   "execution_count": null,
   "metadata": {
    "ExecuteTime": {
     "end_time": "2019-09-27T09:02:37.148932Z",
     "start_time": "2019-09-27T09:02:37.146146Z"
    }
   },
   "outputs": [],
   "source": [
    "print(np.int32(1e18))"
   ]
  },
  {
   "cell_type": "markdown",
   "metadata": {},
   "source": [
    "64-битный int в С хранит числа от -9223372036854775808 до 9223372036854775807 на $10^{18}$ уже хватает"
   ]
  },
  {
   "cell_type": "code",
   "execution_count": null,
   "metadata": {
    "ExecuteTime": {
     "end_time": "2019-09-27T09:02:46.713099Z",
     "start_time": "2019-09-27T09:02:46.710037Z"
    }
   },
   "outputs": [],
   "source": [
    "print(np.int64(1e18))"
   ]
  },
  {
   "cell_type": "code",
   "execution_count": null,
   "metadata": {},
   "outputs": [],
   "source": []
  },
  {
   "cell_type": "markdown",
   "metadata": {},
   "source": [
    "аналогичная градация и для float\n",
    "\n",
    "float - обёртка питоновского типа\n",
    "float32 и float64 - обёртки чисел соответствующей битности (в стиле С)"
   ]
  },
  {
   "cell_type": "code",
   "execution_count": null,
   "metadata": {
    "ExecuteTime": {
     "end_time": "2019-09-27T09:02:54.918856Z",
     "start_time": "2019-09-27T09:02:54.914852Z"
    }
   },
   "outputs": [],
   "source": [
    "type(np.float), type(np.float32), type(np.float64)"
   ]
  },
  {
   "cell_type": "code",
   "execution_count": null,
   "metadata": {
    "ExecuteTime": {
     "end_time": "2019-09-27T09:02:55.409114Z",
     "start_time": "2019-09-27T09:02:55.405270Z"
    }
   },
   "outputs": [],
   "source": [
    "np.float(), np.float32(), np.float64()"
   ]
  },
  {
   "cell_type": "code",
   "execution_count": null,
   "metadata": {
    "ExecuteTime": {
     "end_time": "2019-09-27T00:39:46.861532Z",
     "start_time": "2019-09-27T00:39:46.856717Z"
    }
   },
   "outputs": [],
   "source": [
    "type(np.float()), type(np.float32()), type(np.float64())"
   ]
  },
  {
   "cell_type": "code",
   "execution_count": null,
   "metadata": {
    "ExecuteTime": {
     "end_time": "2019-09-27T09:03:18.118378Z",
     "start_time": "2019-09-27T09:03:18.114184Z"
    }
   },
   "outputs": [],
   "source": [
    "type(np.sqrt(np.float(2))) # np.sqrt  возвращает максимально близкий тип, для питоновского float это float64"
   ]
  },
  {
   "cell_type": "code",
   "execution_count": null,
   "metadata": {
    "ExecuteTime": {
     "end_time": "2019-09-27T09:03:46.930915Z",
     "start_time": "2019-09-27T09:03:46.927140Z"
    },
    "scrolled": true
   },
   "outputs": [],
   "source": [
    "type(np.sqrt(np.float32(2)))"
   ]
  },
  {
   "cell_type": "code",
   "execution_count": null,
   "metadata": {
    "ExecuteTime": {
     "end_time": "2019-09-27T09:03:47.213546Z",
     "start_time": "2019-09-27T09:03:47.209830Z"
    }
   },
   "outputs": [],
   "source": [
    "type(np.sqrt(np.float64(2)))"
   ]
  },
  {
   "cell_type": "code",
   "execution_count": null,
   "metadata": {},
   "outputs": [],
   "source": []
  },
  {
   "cell_type": "markdown",
   "metadata": {},
   "source": [
    "специальные классы для хранения комплексных чисел - по сути это два float-а"
   ]
  },
  {
   "cell_type": "code",
   "execution_count": null,
   "metadata": {
    "ExecuteTime": {
     "end_time": "2019-09-27T00:40:00.820807Z",
     "start_time": "2019-09-27T00:40:00.816772Z"
    }
   },
   "outputs": [],
   "source": [
    "type(np.complex), type(np.complex64), type(np.complex128)"
   ]
  },
  {
   "cell_type": "code",
   "execution_count": null,
   "metadata": {
    "ExecuteTime": {
     "end_time": "2019-09-27T00:40:00.986107Z",
     "start_time": "2019-09-27T00:40:00.981778Z"
    }
   },
   "outputs": [],
   "source": [
    "np.complex(), np.complex64(), np.complex128()"
   ]
  },
  {
   "cell_type": "code",
   "execution_count": null,
   "metadata": {
    "ExecuteTime": {
     "end_time": "2019-09-27T00:40:01.163980Z",
     "start_time": "2019-09-27T00:40:01.159462Z"
    }
   },
   "outputs": [],
   "source": [
    "type(np.complex()), type(np.complex64()), type(np.complex128())"
   ]
  },
  {
   "cell_type": "code",
   "execution_count": null,
   "metadata": {},
   "outputs": [],
   "source": []
  },
  {
   "cell_type": "markdown",
   "metadata": {},
   "source": [
    "по умолчанию корень из -1 не получится взять"
   ]
  },
  {
   "cell_type": "code",
   "execution_count": null,
   "metadata": {
    "ExecuteTime": {
     "end_time": "2019-09-27T09:03:57.635812Z",
     "start_time": "2019-09-27T09:03:57.629193Z"
    }
   },
   "outputs": [],
   "source": [
    "np.sqrt(-1.)"
   ]
  },
  {
   "cell_type": "markdown",
   "metadata": {},
   "source": [
    "но если указать, что тип данных complex, то всё сработает"
   ]
  },
  {
   "cell_type": "code",
   "execution_count": null,
   "metadata": {
    "ExecuteTime": {
     "end_time": "2019-09-27T00:40:09.480443Z",
     "start_time": "2019-09-27T00:40:09.476220Z"
    }
   },
   "outputs": [],
   "source": [
    "np.sqrt(-1 + 0j)"
   ]
  },
  {
   "cell_type": "code",
   "execution_count": null,
   "metadata": {
    "ExecuteTime": {
     "end_time": "2019-09-27T00:40:20.061413Z",
     "start_time": "2019-09-27T00:40:20.057817Z"
    }
   },
   "outputs": [],
   "source": [
    "type(np.sqrt(-1 + 0j))"
   ]
  },
  {
   "cell_type": "code",
   "execution_count": null,
   "metadata": {
    "ExecuteTime": {
     "end_time": "2019-09-27T00:40:20.277011Z",
     "start_time": "2019-09-27T00:40:20.272711Z"
    }
   },
   "outputs": [],
   "source": [
    "type(np.sqrt(np.complex(-1 + 0j)))"
   ]
  },
  {
   "cell_type": "code",
   "execution_count": null,
   "metadata": {
    "ExecuteTime": {
     "end_time": "2019-09-27T00:40:20.451595Z",
     "start_time": "2019-09-27T00:40:20.447174Z"
    }
   },
   "outputs": [],
   "source": [
    "type(np.sqrt(np.complex64(-1 + 0j)))"
   ]
  },
  {
   "cell_type": "code",
   "execution_count": null,
   "metadata": {
    "ExecuteTime": {
     "end_time": "2019-09-27T00:40:20.626983Z",
     "start_time": "2019-09-27T00:40:20.622458Z"
    }
   },
   "outputs": [],
   "source": [
    "type(np.sqrt(np.complex128(-1 + 0j)))"
   ]
  },
  {
   "cell_type": "code",
   "execution_count": null,
   "metadata": {},
   "outputs": [],
   "source": []
  },
  {
   "cell_type": "markdown",
   "metadata": {
    "collapsed": true
   },
   "source": [
    "### Вывод:\n",
    "\n",
    "В numpy присутсвуют обёртки всех типов из C, а также перенесены типы из Python"
   ]
  },
  {
   "cell_type": "code",
   "execution_count": null,
   "metadata": {},
   "outputs": [],
   "source": []
  },
  {
   "cell_type": "markdown",
   "metadata": {},
   "source": [
    "## Основные численные функции"
   ]
  },
  {
   "cell_type": "markdown",
   "metadata": {},
   "source": [
    "numpy предоставляет широкий спектр математических функций\n",
    "\n",
    "опишем основные их виды"
   ]
  },
  {
   "cell_type": "markdown",
   "metadata": {},
   "source": [
    "##### Округления чисел"
   ]
  },
  {
   "cell_type": "markdown",
   "metadata": {},
   "source": [
    "np.round - математическое округление\n",
    "\n",
    "np.floor - округление вниз\n",
    "\n",
    "np.ceil - округление вверх\n",
    "\n",
    "np.int - округление к нулю"
   ]
  },
  {
   "cell_type": "code",
   "execution_count": null,
   "metadata": {
    "ExecuteTime": {
     "end_time": "2019-09-27T09:05:49.408923Z",
     "start_time": "2019-09-27T09:05:49.404556Z"
    }
   },
   "outputs": [],
   "source": [
    "np.round(4.1), np.floor(4.1), np.ceil(4.1), np.int(4.1)"
   ]
  },
  {
   "cell_type": "code",
   "execution_count": null,
   "metadata": {
    "ExecuteTime": {
     "end_time": "2019-09-27T09:05:54.063799Z",
     "start_time": "2019-09-27T09:05:54.059432Z"
    }
   },
   "outputs": [],
   "source": [
    "np.round(-4.1), np.floor(-4.1), np.ceil(-4.1), np.int(-4.1)"
   ]
  },
  {
   "cell_type": "code",
   "execution_count": null,
   "metadata": {},
   "outputs": [],
   "source": []
  },
  {
   "cell_type": "code",
   "execution_count": null,
   "metadata": {
    "ExecuteTime": {
     "end_time": "2019-09-27T09:06:14.092837Z",
     "start_time": "2019-09-27T09:06:14.088933Z"
    }
   },
   "outputs": [],
   "source": [
    "np.round(4.51), np.floor(4.5), np.ceil(4.5), np.int(4.8)"
   ]
  },
  {
   "cell_type": "code",
   "execution_count": null,
   "metadata": {
    "ExecuteTime": {
     "end_time": "2019-09-27T00:40:31.110014Z",
     "start_time": "2019-09-27T00:40:31.105576Z"
    }
   },
   "outputs": [],
   "source": [
    "np.round(-4.5), np.floor(-4.5), np.ceil(-4.5), np.int(-4.5)"
   ]
  },
  {
   "cell_type": "code",
   "execution_count": null,
   "metadata": {},
   "outputs": [],
   "source": []
  },
  {
   "cell_type": "code",
   "execution_count": null,
   "metadata": {
    "ExecuteTime": {
     "end_time": "2019-09-27T00:40:31.397254Z",
     "start_time": "2019-09-27T00:40:31.393150Z"
    },
    "scrolled": false
   },
   "outputs": [],
   "source": [
    "np.round(4.7), np.floor(4.7), np.ceil(4.7), np.int(4.7)"
   ]
  },
  {
   "cell_type": "code",
   "execution_count": null,
   "metadata": {
    "ExecuteTime": {
     "end_time": "2019-09-27T09:07:21.791628Z",
     "start_time": "2019-09-27T09:07:21.787379Z"
    },
    "scrolled": true
   },
   "outputs": [],
   "source": [
    "np.round(-4.7), np.floor(-4.7), np.ceil(-4.7), np.int(-4.7)"
   ]
  },
  {
   "cell_type": "markdown",
   "metadata": {},
   "source": [
    "##### Математические операции"
   ]
  },
  {
   "cell_type": "markdown",
   "metadata": {},
   "source": [
    "Подсчитаем логарифм"
   ]
  },
  {
   "cell_type": "code",
   "execution_count": null,
   "metadata": {
    "ExecuteTime": {
     "end_time": "2019-09-27T09:07:43.782517Z",
     "start_time": "2019-09-27T09:07:43.778695Z"
    }
   },
   "outputs": [],
   "source": [
    "np.log(1000.), type(np.log(1000.))"
   ]
  },
  {
   "cell_type": "code",
   "execution_count": null,
   "metadata": {
    "ExecuteTime": {
     "end_time": "2019-09-27T09:07:46.157579Z",
     "start_time": "2019-09-27T09:07:46.153864Z"
    }
   },
   "outputs": [],
   "source": [
    "np.log(np.float32(1000.)), type(np.log(np.float32(1000.))) # меньше бит на хранение - меньше точность"
   ]
  },
  {
   "cell_type": "code",
   "execution_count": null,
   "metadata": {
    "ExecuteTime": {
     "end_time": "2019-09-27T00:40:34.024859Z",
     "start_time": "2019-09-27T00:40:34.020147Z"
    }
   },
   "outputs": [],
   "source": [
    "np.log(1000.) / np.log(10.), type(np.log(1000.) / np.log(10.))"
   ]
  },
  {
   "cell_type": "markdown",
   "metadata": {},
   "source": [
    "Если брать значение не из области определения, то исключение не выкидывается, но будет warning  и вернётся inf или nan"
   ]
  },
  {
   "cell_type": "code",
   "execution_count": null,
   "metadata": {
    "ExecuteTime": {
     "end_time": "2019-10-05T12:30:20.533027Z",
     "start_time": "2019-10-05T12:30:20.457940Z"
    }
   },
   "outputs": [],
   "source": [
    "import math\n",
    "math.log(-1.0)"
   ]
  },
  {
   "cell_type": "code",
   "execution_count": null,
   "metadata": {
    "ExecuteTime": {
     "end_time": "2019-09-27T09:07:49.721749Z",
     "start_time": "2019-09-27T09:07:49.717487Z"
    }
   },
   "outputs": [],
   "source": [
    "np.log(0.)"
   ]
  },
  {
   "cell_type": "code",
   "execution_count": null,
   "metadata": {
    "ExecuteTime": {
     "end_time": "2019-09-27T00:40:38.544279Z",
     "start_time": "2019-09-27T00:40:38.540157Z"
    }
   },
   "outputs": [],
   "source": [
    "np.log(-1.)"
   ]
  },
  {
   "cell_type": "markdown",
   "metadata": {},
   "source": [
    "Функции работают и с комплексными числами"
   ]
  },
  {
   "cell_type": "code",
   "execution_count": null,
   "metadata": {
    "ExecuteTime": {
     "end_time": "2019-09-27T00:40:41.532521Z",
     "start_time": "2019-09-27T00:40:41.529294Z"
    }
   },
   "outputs": [],
   "source": [
    "np.log(-1 + 0j)"
   ]
  },
  {
   "cell_type": "code",
   "execution_count": null,
   "metadata": {
    "ExecuteTime": {
     "end_time": "2019-09-27T00:40:41.708329Z",
     "start_time": "2019-09-27T00:40:41.704724Z"
    }
   },
   "outputs": [],
   "source": [
    "np.log(1j)"
   ]
  },
  {
   "cell_type": "code",
   "execution_count": null,
   "metadata": {},
   "outputs": [],
   "source": []
  },
  {
   "cell_type": "markdown",
   "metadata": {},
   "source": [
    "Есть специальные функции для двоичного и десятичного логарифмов"
   ]
  },
  {
   "cell_type": "code",
   "execution_count": null,
   "metadata": {
    "ExecuteTime": {
     "end_time": "2019-09-27T00:40:43.197607Z",
     "start_time": "2019-09-27T00:40:43.192361Z"
    }
   },
   "outputs": [],
   "source": [
    "print(np.log10(10))\n",
    "print(np.log10(100))\n",
    "print(np.log10(1000))\n",
    "print(np.log10(1e8))\n",
    "print(np.log10(1e30))\n",
    "print(np.log10(1e100))\n",
    "print(np.log10(1e1000))"
   ]
  },
  {
   "cell_type": "markdown",
   "metadata": {},
   "source": [
    "у больших int-ов уже не получается взять логарифм, так как np.log2 приводит к сишному типу"
   ]
  },
  {
   "cell_type": "code",
   "execution_count": null,
   "metadata": {
    "ExecuteTime": {
     "end_time": "2019-09-27T00:40:44.433522Z",
     "start_time": "2019-09-27T00:40:44.338268Z"
    }
   },
   "outputs": [],
   "source": [
    "print(np.log2(2))\n",
    "print(np.log2(2 ** 2))\n",
    "print(np.log2(2 ** 3))\n",
    "print(np.log2(2 ** 8))\n",
    "print(np.log2(2 ** 30))\n",
    "print(np.log2(2 ** 100))\n",
    "print(np.log2(2 ** 1000))"
   ]
  },
  {
   "cell_type": "markdown",
   "metadata": {},
   "source": [
    "функции работают с типами С, поэтому может быть переполнение"
   ]
  },
  {
   "cell_type": "code",
   "execution_count": null,
   "metadata": {
    "ExecuteTime": {
     "end_time": "2019-09-27T00:41:02.814224Z",
     "start_time": "2019-09-27T00:41:02.810400Z"
    }
   },
   "outputs": [],
   "source": [
    "np.exp(10.), type(np.exp(10.))"
   ]
  },
  {
   "cell_type": "code",
   "execution_count": null,
   "metadata": {
    "ExecuteTime": {
     "end_time": "2019-09-27T00:41:03.383811Z",
     "start_time": "2019-09-27T00:41:03.380021Z"
    }
   },
   "outputs": [],
   "source": [
    "np.exp(100.), type(np.exp(100.))"
   ]
  },
  {
   "cell_type": "code",
   "execution_count": null,
   "metadata": {
    "ExecuteTime": {
     "end_time": "2019-09-27T00:41:03.758032Z",
     "start_time": "2019-09-27T00:41:03.753306Z"
    },
    "scrolled": true
   },
   "outputs": [],
   "source": [
    "np.exp(1000.), type(np.exp(1000.))"
   ]
  },
  {
   "cell_type": "code",
   "execution_count": null,
   "metadata": {},
   "outputs": [],
   "source": []
  },
  {
   "cell_type": "markdown",
   "metadata": {},
   "source": [
    "##### Константы"
   ]
  },
  {
   "cell_type": "markdown",
   "metadata": {},
   "source": [
    "в numpy есть математические константы "
   ]
  },
  {
   "cell_type": "code",
   "execution_count": null,
   "metadata": {
    "ExecuteTime": {
     "end_time": "2019-09-27T09:10:11.572921Z",
     "start_time": "2019-09-27T09:10:11.569680Z"
    },
    "scrolled": true
   },
   "outputs": [],
   "source": [
    "np.pi, type(np.pi)"
   ]
  },
  {
   "cell_type": "code",
   "execution_count": null,
   "metadata": {
    "ExecuteTime": {
     "end_time": "2019-09-27T09:10:12.030735Z",
     "start_time": "2019-09-27T09:10:12.027013Z"
    }
   },
   "outputs": [],
   "source": [
    "np.e, type(np.e)"
   ]
  },
  {
   "cell_type": "code",
   "execution_count": null,
   "metadata": {
    "ExecuteTime": {
     "end_time": "2019-09-27T00:41:08.793349Z",
     "start_time": "2019-09-27T00:41:08.789724Z"
    }
   },
   "outputs": [],
   "source": [
    "np.exp(np.pi * 1j)"
   ]
  },
  {
   "cell_type": "code",
   "execution_count": null,
   "metadata": {
    "ExecuteTime": {
     "end_time": "2019-09-27T00:41:09.292413Z",
     "start_time": "2019-09-27T00:41:09.287480Z"
    }
   },
   "outputs": [],
   "source": [
    "np.exp(np.pi * 1j).astype(np.float64)"
   ]
  },
  {
   "cell_type": "code",
   "execution_count": null,
   "metadata": {},
   "outputs": [],
   "source": []
  },
  {
   "cell_type": "markdown",
   "metadata": {},
   "source": [
    "Более подробно можно посмотреть здесь: https://docs.scipy.org/doc/numpy-1.9.2/reference/routines.math.html"
   ]
  },
  {
   "cell_type": "markdown",
   "metadata": {
    "collapsed": true
   },
   "source": [
    "### Вывод:\n",
    "В numpy реализовано огромное число математических функций\n",
    "\n",
    "**Но чем это лучше модуля math?**"
   ]
  },
  {
   "cell_type": "code",
   "execution_count": null,
   "metadata": {},
   "outputs": [],
   "source": []
  },
  {
   "cell_type": "markdown",
   "metadata": {},
   "source": [
    "### Арифметические функции хороши, но, тем не менее, основным объектом NumPy является однородный многомерный массив"
   ]
  },
  {
   "cell_type": "code",
   "execution_count": null,
   "metadata": {
    "ExecuteTime": {
     "end_time": "2019-09-27T09:12:40.856450Z",
     "start_time": "2019-09-27T09:12:40.853132Z"
    }
   },
   "outputs": [],
   "source": [
    "a = []\n",
    "type(a)"
   ]
  },
  {
   "cell_type": "code",
   "execution_count": null,
   "metadata": {
    "ExecuteTime": {
     "end_time": "2019-09-27T00:42:31.659877Z",
     "start_time": "2019-09-27T00:42:31.656659Z"
    }
   },
   "outputs": [],
   "source": [
    "type(np.array([]))"
   ]
  },
  {
   "cell_type": "markdown",
   "metadata": {},
   "source": [
    "Наиболее важные атрибуты объектов ndarray:\n",
    "\n",
    "    1. ndarray.ndim - число измерений (чаще их называют \"оси\") массива.\n",
    "\n",
    "    2. ndarray.shape - размеры массива, его форма. Это кортеж натуральных чисел, показывающий длину массива по каждой оси. Для матрицы из n строк и m столбов, shape будет (n,m). Число элементов кортежа shape равно ndim.\n",
    "\n",
    "    3. ndarray.size - количество элементов массива. Очевидно, равно произведению всех элементов атрибута shape.\n",
    "\n",
    "    4. ndarray.dtype - объект, описывающий тип элементов массива. Можно определить dtype, используя стандартные типы данных Python. Можно хранить и numpy типы, например: bool, int16, int32, int64, float16, float32, float64, complex64\n",
    "\n",
    "    5. ndarray.itemsize - размер каждого элемента массива в байтах.\n",
    "\n",
    "    6. ndarray.data - буфер, содержащий фактические элементы массива. Обычно не нужно использовать этот атрибут, так как обращаться к элементам массива проще всего с помощью индексов."
   ]
  },
  {
   "cell_type": "markdown",
   "metadata": {},
   "source": [
    "##### Обычные одномерные массивы"
   ]
  },
  {
   "cell_type": "code",
   "execution_count": null,
   "metadata": {
    "ExecuteTime": {
     "end_time": "2019-09-27T00:42:31.667201Z",
     "start_time": "2019-09-27T00:42:31.661517Z"
    }
   },
   "outputs": [],
   "source": [
    "arr = np.array([1, 2, 4, 8, 16, 32])\n",
    "\n",
    "print(arr.ndim)\n",
    "print(arr.shape)\n",
    "print(arr.size)\n",
    "print(arr.dtype)\n",
    "print(arr.itemsize)\n",
    "print(arr.data)"
   ]
  },
  {
   "cell_type": "code",
   "execution_count": null,
   "metadata": {
    "ExecuteTime": {
     "end_time": "2019-09-27T09:13:29.679693Z",
     "start_time": "2019-09-27T09:13:29.675133Z"
    }
   },
   "outputs": [],
   "source": [
    "arr = np.array([1, 2, 4, 8, 16, 32], dtype=float)\n",
    "\n",
    "print(arr.ndim)\n",
    "print(arr.shape)\n",
    "print(arr.size)\n",
    "print(arr.dtype)\n",
    "print(arr.itemsize)\n",
    "print(arr.data)"
   ]
  },
  {
   "cell_type": "code",
   "execution_count": null,
   "metadata": {
    "ExecuteTime": {
     "end_time": "2019-09-27T09:13:34.514538Z",
     "start_time": "2019-09-27T09:13:34.511069Z"
    }
   },
   "outputs": [],
   "source": [
    "arr"
   ]
  },
  {
   "cell_type": "code",
   "execution_count": null,
   "metadata": {
    "ExecuteTime": {
     "end_time": "2019-09-27T00:42:31.683490Z",
     "start_time": "2019-09-27T00:42:31.678641Z"
    }
   },
   "outputs": [],
   "source": [
    "arr = np.array([1, 2, 4, 8, 16, 32], dtype=object)\n",
    "\n",
    "print(arr.ndim)\n",
    "print(arr.shape)\n",
    "print(arr.size)\n",
    "print(arr.dtype)\n",
    "print(arr.itemsize)\n",
    "print(arr.data)"
   ]
  },
  {
   "cell_type": "code",
   "execution_count": null,
   "metadata": {
    "ExecuteTime": {
     "end_time": "2019-09-27T00:42:31.690299Z",
     "start_time": "2019-09-27T00:42:31.685667Z"
    }
   },
   "outputs": [],
   "source": [
    "arr = np.array([1, 2, 4, 8, 16, 32], dtype=np.int64)\n",
    "\n",
    "print(arr.ndim)\n",
    "print(arr.shape)\n",
    "print(arr.size)\n",
    "print(arr.dtype)\n",
    "print(arr.itemsize)\n",
    "print(arr.data)"
   ]
  },
  {
   "cell_type": "markdown",
   "metadata": {},
   "source": [
    "##### Обычные двухмерные массивы"
   ]
  },
  {
   "cell_type": "code",
   "execution_count": null,
   "metadata": {
    "ExecuteTime": {
     "end_time": "2019-09-27T09:14:27.421462Z",
     "start_time": "2019-09-27T09:14:27.415932Z"
    }
   },
   "outputs": [],
   "source": [
    "arr = np.array([[1,2], [2,2], [4,2], [8,2], [16,2], [32,2]], dtype=np.complex128)\n",
    "\n",
    "print(arr.ndim)\n",
    "print(arr.shape)\n",
    "print(arr.size)\n",
    "print(arr.dtype)\n",
    "print(arr.itemsize)\n",
    "print(arr.data)"
   ]
  },
  {
   "cell_type": "code",
   "execution_count": null,
   "metadata": {
    "ExecuteTime": {
     "end_time": "2019-09-27T00:42:31.711479Z",
     "start_time": "2019-09-27T00:42:31.705631Z"
    }
   },
   "outputs": [],
   "source": [
    "arr = np.array([[1, 0], [2, 0], [4, 0], [8, 0], [16, 0], [32, 0]], dtype=np.complex128)\n",
    "\n",
    "print(arr.ndim)\n",
    "print(arr.shape)\n",
    "print(arr.size)\n",
    "print(arr.dtype)\n",
    "print(arr.itemsize)\n",
    "print(arr.data)"
   ]
  },
  {
   "cell_type": "markdown",
   "metadata": {},
   "source": [
    "##### Индексация одномерных массивов"
   ]
  },
  {
   "cell_type": "code",
   "execution_count": null,
   "metadata": {
    "ExecuteTime": {
     "end_time": "2019-09-27T09:14:43.108683Z",
     "start_time": "2019-09-27T09:14:43.106106Z"
    }
   },
   "outputs": [],
   "source": [
    "arr = np.array([1, 2, 4, 8, 16, 32], dtype=np.int64)"
   ]
  },
  {
   "cell_type": "code",
   "execution_count": null,
   "metadata": {
    "ExecuteTime": {
     "end_time": "2019-09-27T09:14:43.492439Z",
     "start_time": "2019-09-27T09:14:43.488584Z"
    }
   },
   "outputs": [],
   "source": [
    "arr[0], arr[1], arr[4], arr[-1]"
   ]
  },
  {
   "cell_type": "code",
   "execution_count": null,
   "metadata": {
    "ExecuteTime": {
     "end_time": "2019-09-27T09:14:46.890814Z",
     "start_time": "2019-09-27T09:14:46.887303Z"
    }
   },
   "outputs": [],
   "source": [
    "arr[0:4]"
   ]
  },
  {
   "cell_type": "code",
   "execution_count": null,
   "metadata": {
    "ExecuteTime": {
     "end_time": "2019-09-27T09:15:04.043501Z",
     "start_time": "2019-09-27T09:15:04.039353Z"
    }
   },
   "outputs": [],
   "source": [
    "arr[[0, 3, 5]]"
   ]
  },
  {
   "cell_type": "markdown",
   "metadata": {},
   "source": [
    "##### Индексация двухмерных массивов"
   ]
  },
  {
   "cell_type": "code",
   "execution_count": null,
   "metadata": {
    "ExecuteTime": {
     "end_time": "2019-09-27T09:15:20.325546Z",
     "start_time": "2019-09-27T09:15:20.321905Z"
    }
   },
   "outputs": [],
   "source": [
    "arr = np.array(\n",
    "    [\n",
    "        [1, 0, 4], \n",
    "        [2, 0, 4], \n",
    "        [4, 0, 4], \n",
    "        [8, 0, 4], \n",
    "        [16, 0, 4], \n",
    "        [32, 0, 4]\n",
    "    ],\n",
    "    dtype=np.int64\n",
    ")"
   ]
  },
  {
   "cell_type": "code",
   "execution_count": null,
   "metadata": {
    "ExecuteTime": {
     "end_time": "2019-09-27T09:15:20.513858Z",
     "start_time": "2019-09-27T09:15:20.508830Z"
    }
   },
   "outputs": [],
   "source": [
    "print(arr[0])\n",
    "print(arr[1])\n",
    "print(arr[4])\n",
    "print(arr[-1])"
   ]
  },
  {
   "cell_type": "code",
   "execution_count": null,
   "metadata": {
    "ExecuteTime": {
     "end_time": "2019-09-27T09:15:20.671673Z",
     "start_time": "2019-09-27T09:15:20.667052Z"
    }
   },
   "outputs": [],
   "source": [
    "arr[0, 0], arr[1, 0], arr[4, 0], arr[-1, 0]"
   ]
  },
  {
   "cell_type": "code",
   "execution_count": null,
   "metadata": {
    "ExecuteTime": {
     "end_time": "2019-09-27T00:43:45.797720Z",
     "start_time": "2019-09-27T00:43:45.792954Z"
    }
   },
   "outputs": [],
   "source": [
    "arr[0][0], arr[1][0], arr[4][0], arr[-1][0]"
   ]
  },
  {
   "cell_type": "markdown",
   "metadata": {},
   "source": [
    "Первый способ быстрее"
   ]
  },
  {
   "cell_type": "code",
   "execution_count": null,
   "metadata": {
    "ExecuteTime": {
     "end_time": "2019-09-27T00:43:52.450695Z",
     "start_time": "2019-09-27T00:43:47.295646Z"
    }
   },
   "outputs": [],
   "source": [
    "%timeit arr[0, 0], arr[1, 0], arr[4, 0], arr[-1, 0]"
   ]
  },
  {
   "cell_type": "code",
   "execution_count": null,
   "metadata": {
    "ExecuteTime": {
     "end_time": "2019-09-27T00:44:01.942042Z",
     "start_time": "2019-09-27T00:43:52.452256Z"
    }
   },
   "outputs": [],
   "source": [
    "%timeit arr[0][0], arr[1][0], arr[4][0], arr[-1][0]"
   ]
  },
  {
   "cell_type": "markdown",
   "metadata": {},
   "source": [
    "##### Более сложная индексация"
   ]
  },
  {
   "cell_type": "markdown",
   "metadata": {},
   "source": [
    "Можем взять строчку или столбец"
   ]
  },
  {
   "cell_type": "code",
   "execution_count": null,
   "metadata": {
    "ExecuteTime": {
     "end_time": "2019-09-27T00:44:01.947117Z",
     "start_time": "2019-09-27T00:44:01.943707Z"
    }
   },
   "outputs": [],
   "source": [
    "arr[0, :], arr[0, :].shape"
   ]
  },
  {
   "cell_type": "code",
   "execution_count": null,
   "metadata": {
    "ExecuteTime": {
     "end_time": "2019-09-27T00:44:01.952075Z",
     "start_time": "2019-09-27T00:44:01.948530Z"
    }
   },
   "outputs": [],
   "source": [
    "arr[:, 0], arr[:, 0].shape"
   ]
  },
  {
   "cell_type": "code",
   "execution_count": null,
   "metadata": {
    "ExecuteTime": {
     "end_time": "2019-09-27T09:16:13.157151Z",
     "start_time": "2019-09-27T09:16:13.152514Z"
    }
   },
   "outputs": [],
   "source": [
    "arr[[1, 3, 5], :], arr[[1, 3, 5], :].shape"
   ]
  },
  {
   "cell_type": "code",
   "execution_count": null,
   "metadata": {
    "ExecuteTime": {
     "end_time": "2019-09-27T09:16:29.203561Z",
     "start_time": "2019-09-27T09:16:29.199473Z"
    }
   },
   "outputs": [],
   "source": [
    "arr[[1, 3, 5], 0].shape"
   ]
  },
  {
   "cell_type": "code",
   "execution_count": null,
   "metadata": {
    "ExecuteTime": {
     "end_time": "2019-09-27T00:44:01.967405Z",
     "start_time": "2019-09-27T00:44:01.964196Z"
    }
   },
   "outputs": [],
   "source": [
    "arr[1::2, 0]"
   ]
  },
  {
   "cell_type": "code",
   "execution_count": null,
   "metadata": {
    "ExecuteTime": {
     "end_time": "2019-09-27T09:16:45.875097Z",
     "start_time": "2019-09-27T09:16:45.871005Z"
    }
   },
   "outputs": [],
   "source": [
    "arr[[1, 3, 5], :2]"
   ]
  },
  {
   "cell_type": "code",
   "execution_count": null,
   "metadata": {
    "ExecuteTime": {
     "end_time": "2019-09-27T09:16:46.667635Z",
     "start_time": "2019-09-27T09:16:46.664104Z"
    }
   },
   "outputs": [],
   "source": [
    "arr[[1, 3, 5], 1:]"
   ]
  },
  {
   "cell_type": "code",
   "execution_count": null,
   "metadata": {
    "ExecuteTime": {
     "end_time": "2019-09-27T09:17:08.582898Z",
     "start_time": "2019-09-27T09:17:08.578965Z"
    }
   },
   "outputs": [],
   "source": [
    "arr[[1, 3, 5], [0,1,2]]"
   ]
  },
  {
   "cell_type": "code",
   "execution_count": null,
   "metadata": {
    "ExecuteTime": {
     "end_time": "2019-09-27T00:45:10.175781Z",
     "start_time": "2019-09-27T00:45:10.171909Z"
    }
   },
   "outputs": [],
   "source": [
    "arr[[1, 3], [0, 2]] # взяли элементы arr[1, 0] и arr[3, 2]"
   ]
  },
  {
   "cell_type": "code",
   "execution_count": null,
   "metadata": {
    "ExecuteTime": {
     "end_time": "2019-09-27T00:45:10.388547Z",
     "start_time": "2019-09-27T00:45:10.383768Z"
    }
   },
   "outputs": [],
   "source": [
    "arr[np.ix_([1, 3, 5], [0, 2])]"
   ]
  },
  {
   "cell_type": "code",
   "execution_count": null,
   "metadata": {
    "ExecuteTime": {
     "end_time": "2019-09-27T00:45:10.574667Z",
     "start_time": "2019-09-27T00:45:10.570502Z"
    }
   },
   "outputs": [],
   "source": [
    "np.ix_([1, 3, 5], [0, 2])"
   ]
  },
  {
   "cell_type": "markdown",
   "metadata": {},
   "source": [
    "### Выводы"
   ]
  },
  {
   "cell_type": "markdown",
   "metadata": {},
   "source": [
    "Картинки взяты с http://www.scipy-lectures.org/intro/numpy/numpy.html"
   ]
  },
  {
   "cell_type": "markdown",
   "metadata": {},
   "source": [
    "![title](numpy_indexing.png)"
   ]
  },
  {
   "cell_type": "markdown",
   "metadata": {},
   "source": [
    "![title](numpy_fancy_indexing.png)"
   ]
  },
  {
   "cell_type": "code",
   "execution_count": null,
   "metadata": {},
   "outputs": [],
   "source": []
  },
  {
   "cell_type": "markdown",
   "metadata": {},
   "source": [
    "##### Какая индексация на самом деле нужна"
   ]
  },
  {
   "cell_type": "markdown",
   "metadata": {},
   "source": [
    "Часто отбор идет не по каким-то индексам, а по условиям"
   ]
  },
  {
   "cell_type": "code",
   "execution_count": null,
   "metadata": {
    "ExecuteTime": {
     "end_time": "2019-09-27T09:17:53.685306Z",
     "start_time": "2019-09-27T09:17:53.679146Z"
    }
   },
   "outputs": [],
   "source": [
    "rand_arr = np.random.randint(20, size=100)\n",
    "rand_arr"
   ]
  },
  {
   "cell_type": "code",
   "execution_count": null,
   "metadata": {
    "ExecuteTime": {
     "end_time": "2019-09-27T09:17:58.012482Z",
     "start_time": "2019-09-27T09:17:58.008596Z"
    }
   },
   "outputs": [],
   "source": [
    "rand_arr > 5"
   ]
  },
  {
   "cell_type": "code",
   "execution_count": null,
   "metadata": {
    "ExecuteTime": {
     "end_time": "2019-09-27T09:18:07.817019Z",
     "start_time": "2019-09-27T09:18:07.813103Z"
    }
   },
   "outputs": [],
   "source": [
    "rand_arr[rand_arr > 5]"
   ]
  },
  {
   "cell_type": "code",
   "execution_count": null,
   "metadata": {
    "ExecuteTime": {
     "end_time": "2019-09-27T09:18:14.685167Z",
     "start_time": "2019-09-27T09:18:14.678203Z"
    }
   },
   "outputs": [],
   "source": [
    "rand_arr[rand_arr > 5 & rand_arr < 10]"
   ]
  },
  {
   "cell_type": "code",
   "execution_count": null,
   "metadata": {
    "ExecuteTime": {
     "end_time": "2019-09-27T09:18:25.585036Z",
     "start_time": "2019-09-27T09:18:25.580749Z"
    }
   },
   "outputs": [],
   "source": [
    "rand_arr[(rand_arr > 5) & (rand_arr < 10)]"
   ]
  },
  {
   "cell_type": "code",
   "execution_count": null,
   "metadata": {},
   "outputs": [],
   "source": []
  },
  {
   "cell_type": "markdown",
   "metadata": {},
   "source": [
    "##### Операции с массивами"
   ]
  },
  {
   "cell_type": "markdown",
   "metadata": {},
   "source": [
    "Над массивами можно делать арифметические операции. При этом не нужно обращаться отдельно к каждому элементы, можно выполнять операции с массивами в целом."
   ]
  },
  {
   "cell_type": "code",
   "execution_count": null,
   "metadata": {
    "ExecuteTime": {
     "end_time": "2019-09-27T09:18:45.576661Z",
     "start_time": "2019-09-27T09:18:45.573257Z"
    }
   },
   "outputs": [],
   "source": [
    "a = np.array([1, 2, 4, 8, 16])\n",
    "b = np.array([1, 3, 9, 27, 81])"
   ]
  },
  {
   "cell_type": "code",
   "execution_count": null,
   "metadata": {
    "ExecuteTime": {
     "end_time": "2019-09-27T09:18:45.974430Z",
     "start_time": "2019-09-27T09:18:45.970838Z"
    }
   },
   "outputs": [],
   "source": [
    "a - 1"
   ]
  },
  {
   "cell_type": "code",
   "execution_count": null,
   "metadata": {
    "ExecuteTime": {
     "end_time": "2019-09-27T09:18:50.650507Z",
     "start_time": "2019-09-27T09:18:50.647036Z"
    }
   },
   "outputs": [],
   "source": [
    "a + b"
   ]
  },
  {
   "cell_type": "code",
   "execution_count": null,
   "metadata": {
    "ExecuteTime": {
     "end_time": "2019-09-27T09:19:01.826381Z",
     "start_time": "2019-09-27T09:19:01.822531Z"
    }
   },
   "outputs": [],
   "source": [
    "a * b"
   ]
  },
  {
   "cell_type": "code",
   "execution_count": null,
   "metadata": {
    "ExecuteTime": {
     "end_time": "2019-09-27T09:19:06.359838Z",
     "start_time": "2019-09-27T09:19:06.355812Z"
    }
   },
   "outputs": [],
   "source": [
    "b / a"
   ]
  },
  {
   "cell_type": "code",
   "execution_count": null,
   "metadata": {
    "ExecuteTime": {
     "end_time": "2019-09-27T09:19:08.752899Z",
     "start_time": "2019-09-27T09:19:08.749480Z"
    },
    "scrolled": true
   },
   "outputs": [],
   "source": [
    "b // a"
   ]
  },
  {
   "cell_type": "code",
   "execution_count": null,
   "metadata": {
    "ExecuteTime": {
     "end_time": "2019-09-27T00:47:20.260500Z",
     "start_time": "2019-09-27T00:47:20.256810Z"
    }
   },
   "outputs": [],
   "source": [
    "np.log2(a)"
   ]
  },
  {
   "cell_type": "code",
   "execution_count": null,
   "metadata": {
    "ExecuteTime": {
     "end_time": "2019-09-27T00:47:20.582109Z",
     "start_time": "2019-09-27T00:47:20.578173Z"
    }
   },
   "outputs": [],
   "source": [
    "np.log(a) / np.log(2)"
   ]
  },
  {
   "cell_type": "code",
   "execution_count": null,
   "metadata": {
    "ExecuteTime": {
     "end_time": "2019-09-27T00:47:20.723323Z",
     "start_time": "2019-09-27T00:47:20.718936Z"
    }
   },
   "outputs": [],
   "source": [
    "np.log(b) / np.log(3)"
   ]
  },
  {
   "cell_type": "markdown",
   "metadata": {},
   "source": [
    "##### Преимущество по скорости"
   ]
  },
  {
   "cell_type": "code",
   "execution_count": null,
   "metadata": {
    "ExecuteTime": {
     "end_time": "2019-09-27T00:47:21.752536Z",
     "start_time": "2019-09-27T00:47:21.749025Z"
    }
   },
   "outputs": [],
   "source": [
    "a = list(range(10000))\n",
    "b = list(range(10000))"
   ]
  },
  {
   "cell_type": "code",
   "execution_count": null,
   "metadata": {
    "ExecuteTime": {
     "end_time": "2019-09-27T00:47:27.099920Z",
     "start_time": "2019-09-27T00:47:21.902919Z"
    }
   },
   "outputs": [],
   "source": [
    "%%timeit\n",
    "c = [\n",
    "    x * y\n",
    "    for x, y in zip(a, b)\n",
    "]"
   ]
  },
  {
   "cell_type": "code",
   "execution_count": null,
   "metadata": {
    "ExecuteTime": {
     "end_time": "2019-09-27T00:47:27.106433Z",
     "start_time": "2019-09-27T00:47:27.101677Z"
    }
   },
   "outputs": [],
   "source": [
    "a = np.array(a)\n",
    "b = np.array(b)"
   ]
  },
  {
   "cell_type": "code",
   "execution_count": null,
   "metadata": {
    "ExecuteTime": {
     "end_time": "2019-09-27T00:47:32.981506Z",
     "start_time": "2019-09-27T00:47:27.108139Z"
    }
   },
   "outputs": [],
   "source": [
    "%%timeit\n",
    "c = a * b"
   ]
  },
  {
   "cell_type": "code",
   "execution_count": null,
   "metadata": {
    "ExecuteTime": {
     "end_time": "2019-09-27T00:47:35.455911Z",
     "start_time": "2019-09-27T00:47:32.983342Z"
    }
   },
   "outputs": [],
   "source": [
    "%%timeit\n",
    "c = [\n",
    "    x * y\n",
    "    for x, y in zip(a, b)\n",
    "]"
   ]
  },
  {
   "cell_type": "markdown",
   "metadata": {},
   "source": [
    "Операции с массивами в 100 раз быстрее, хотя если мы пробуем использовать обычный питоновский код поверх массивов, то получается существенно медленнее"
   ]
  },
  {
   "cell_type": "markdown",
   "metadata": {},
   "source": [
    "### Выводы:\n",
    "\n",
    "Для большей производительности лучше использовать арифметические операции над массивами"
   ]
  },
  {
   "cell_type": "code",
   "execution_count": null,
   "metadata": {},
   "outputs": [],
   "source": []
  },
  {
   "cell_type": "code",
   "execution_count": null,
   "metadata": {},
   "outputs": [],
   "source": []
  },
  {
   "cell_type": "markdown",
   "metadata": {},
   "source": [
    "##### random"
   ]
  },
  {
   "cell_type": "markdown",
   "metadata": {},
   "source": [
    "В numpy есть аналог модуля random - numpy.random. Используя типизацию из C, он как и свой аналог генерирует случайные данные."
   ]
  },
  {
   "cell_type": "code",
   "execution_count": null,
   "metadata": {
    "ExecuteTime": {
     "end_time": "2019-09-27T00:47:35.462283Z",
     "start_time": "2019-09-27T00:47:35.457438Z"
    }
   },
   "outputs": [],
   "source": [
    "np.random.rand(2, 3, 4) # равномерное от 0 до 1 распределение в заданном shape"
   ]
  },
  {
   "cell_type": "code",
   "execution_count": null,
   "metadata": {
    "ExecuteTime": {
     "end_time": "2019-09-27T00:47:35.467115Z",
     "start_time": "2019-09-27T00:47:35.463970Z"
    }
   },
   "outputs": [],
   "source": [
    "np.random.rand(2, 3, 4).shape"
   ]
  },
  {
   "cell_type": "code",
   "execution_count": null,
   "metadata": {
    "ExecuteTime": {
     "end_time": "2019-09-27T00:47:35.472831Z",
     "start_time": "2019-09-27T00:47:35.468700Z"
    }
   },
   "outputs": [],
   "source": [
    "np.random.randn(2, 3, 4) # нормальное распределение в заданном shape"
   ]
  },
  {
   "cell_type": "code",
   "execution_count": null,
   "metadata": {
    "ExecuteTime": {
     "end_time": "2019-09-27T09:20:07.146815Z",
     "start_time": "2019-09-27T09:20:07.143049Z"
    }
   },
   "outputs": [],
   "source": [
    "np.random.bytes(10) # случайные байты"
   ]
  },
  {
   "cell_type": "markdown",
   "metadata": {},
   "source": [
    "Можно генерировать и другие распределения, подробности тут:\n",
    "\n",
    "https://docs.scipy.org/doc/numpy-1.12.0/reference/routines.random.html"
   ]
  },
  {
   "cell_type": "code",
   "execution_count": null,
   "metadata": {},
   "outputs": [],
   "source": []
  },
  {
   "cell_type": "markdown",
   "metadata": {},
   "source": [
    "#### Ещё один пример эффективных вычислений"
   ]
  },
  {
   "cell_type": "markdown",
   "metadata": {},
   "source": [
    "В заключение приведём ещё один пример, где использование numpy существенно ускоряет код"
   ]
  },
  {
   "cell_type": "markdown",
   "metadata": {},
   "source": [
    "В математике определена операция перемножения матриц (двухмерных массивов)\n",
    "\n",
    "$A \\times B = C$\n",
    "\n",
    "$C_{ij} = \\sum_k A_{ik} B_{kj}$"
   ]
  },
  {
   "cell_type": "markdown",
   "metadata": {},
   "source": [
    "сгенерируем случайные матрицы"
   ]
  },
  {
   "cell_type": "code",
   "execution_count": null,
   "metadata": {
    "ExecuteTime": {
     "end_time": "2019-09-27T09:20:25.621756Z",
     "start_time": "2019-09-27T09:20:25.617666Z"
    }
   },
   "outputs": [],
   "source": [
    "A = np.random.randint(1000, size=(200, 100))\n",
    "B = np.random.randint(1000, size=(100, 300))"
   ]
  },
  {
   "cell_type": "markdown",
   "metadata": {},
   "source": [
    "умножение на основе numpy"
   ]
  },
  {
   "cell_type": "code",
   "execution_count": null,
   "metadata": {
    "ExecuteTime": {
     "end_time": "2019-09-27T00:47:45.171396Z",
     "start_time": "2019-09-27T00:47:45.168758Z"
    }
   },
   "outputs": [],
   "source": [
    "def np_multiply():\n",
    "    return np.dot(A, B)"
   ]
  },
  {
   "cell_type": "code",
   "execution_count": null,
   "metadata": {
    "ExecuteTime": {
     "end_time": "2019-09-27T00:47:48.232488Z",
     "start_time": "2019-09-27T00:47:45.584478Z"
    },
    "scrolled": true
   },
   "outputs": [],
   "source": [
    "%timeit np_multiply()"
   ]
  },
  {
   "cell_type": "markdown",
   "metadata": {
    "collapsed": true
   },
   "source": [
    "если хранить матрицу не как двухмерный массив, а как список списков, то будет дольше работать"
   ]
  },
  {
   "cell_type": "code",
   "execution_count": null,
   "metadata": {
    "ExecuteTime": {
     "end_time": "2019-09-27T00:47:48.239528Z",
     "start_time": "2019-09-27T00:47:48.234147Z"
    }
   },
   "outputs": [],
   "source": [
    "A = [list(x) for x in A]\n",
    "B = [list(x) for x in B]"
   ]
  },
  {
   "cell_type": "code",
   "execution_count": null,
   "metadata": {
    "ExecuteTime": {
     "end_time": "2019-09-27T00:47:58.598293Z",
     "start_time": "2019-09-27T00:47:51.590995Z"
    }
   },
   "outputs": [],
   "source": [
    "%timeit np_multiply()"
   ]
  },
  {
   "cell_type": "markdown",
   "metadata": {},
   "source": [
    "а это умножение на чистом питоновском коде"
   ]
  },
  {
   "cell_type": "code",
   "execution_count": null,
   "metadata": {
    "ExecuteTime": {
     "end_time": "2019-09-27T00:47:58.604118Z",
     "start_time": "2019-09-27T00:47:58.600121Z"
    }
   },
   "outputs": [],
   "source": [
    "def python_multiply():\n",
    "    res = []\n",
    "    for i in range(200):\n",
    "        row = []\n",
    "        for j in range(300):\n",
    "            val = 0\n",
    "            for k in range(100):\n",
    "                val += A[i][k] * B[k][j]\n",
    "            row.append(val)\n",
    "        res.append(row)\n",
    "    return res"
   ]
  },
  {
   "cell_type": "code",
   "execution_count": null,
   "metadata": {
    "ExecuteTime": {
     "end_time": "2019-09-27T00:48:14.984462Z",
     "start_time": "2019-09-27T00:47:58.680095Z"
    }
   },
   "outputs": [],
   "source": [
    "%timeit python_multiply()"
   ]
  },
  {
   "cell_type": "markdown",
   "metadata": {},
   "source": [
    "Ускорение более чем в 100 раз"
   ]
  },
  {
   "cell_type": "code",
   "execution_count": null,
   "metadata": {},
   "outputs": [],
   "source": []
  },
  {
   "cell_type": "code",
   "execution_count": null,
   "metadata": {},
   "outputs": [],
   "source": []
  }
 ],
 "metadata": {
  "kernelspec": {
   "display_name": "Python 3",
   "language": "python",
   "name": "python3"
  },
  "language_info": {
   "codemirror_mode": {
    "name": "ipython",
    "version": 3
   },
   "file_extension": ".py",
   "mimetype": "text/x-python",
   "name": "python",
   "nbconvert_exporter": "python",
   "pygments_lexer": "ipython3",
   "version": "3.6.5"
  },
  "toc": {
   "base_numbering": 1,
   "nav_menu": {},
   "number_sections": true,
   "sideBar": true,
   "skip_h1_title": false,
   "title_cell": "Table of Contents",
   "title_sidebar": "Contents",
   "toc_cell": false,
   "toc_position": {},
   "toc_section_display": true,
   "toc_window_display": true
  }
 },
 "nbformat": 4,
 "nbformat_minor": 2
}
