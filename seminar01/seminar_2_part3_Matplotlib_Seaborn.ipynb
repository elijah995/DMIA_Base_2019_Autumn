{
 "cells": [
  {
   "cell_type": "markdown",
   "metadata": {},
   "source": [
    "# Визуализация данных в Python"
   ]
  },
  {
   "cell_type": "markdown",
   "metadata": {},
   "source": [
    "**Источник:** https://github.com/emeli-dral/sklearn_intro \n",
    "\n",
    "**Автор:** Эмели Драль, mailto: emeli.dral@gmail.com"
   ]
  },
  {
   "cell_type": "markdown",
   "metadata": {},
   "source": [
    "## Построение графиков"
   ]
  },
  {
   "cell_type": "code",
   "execution_count": null,
   "metadata": {
    "ExecuteTime": {
     "end_time": "2019-09-27T09:37:19.479629Z",
     "start_time": "2019-09-27T09:37:19.477156Z"
    },
    "scrolled": true
   },
   "outputs": [],
   "source": [
    "#import matplotlib\n",
    "import matplotlib.pyplot as plt"
   ]
  },
  {
   "cell_type": "markdown",
   "metadata": {},
   "source": [
    "Jupyter notebook magic для отображения графиков прямо в блокноте (в питоновских скриптах графики по умолчанию строятся в отдельном окне):"
   ]
  },
  {
   "cell_type": "code",
   "execution_count": null,
   "metadata": {
    "ExecuteTime": {
     "end_time": "2019-09-27T09:37:50.009600Z",
     "start_time": "2019-09-27T09:37:50.004026Z"
    }
   },
   "outputs": [],
   "source": [
    "%matplotlib inline"
   ]
  },
  {
   "cell_type": "markdown",
   "metadata": {},
   "source": [
    "## Построение графика y(x) в одну строчку"
   ]
  },
  {
   "cell_type": "markdown",
   "metadata": {},
   "source": [
    "Если у вас есть значения x и y:"
   ]
  },
  {
   "cell_type": "code",
   "execution_count": null,
   "metadata": {
    "ExecuteTime": {
     "end_time": "2019-09-27T09:39:06.014332Z",
     "start_time": "2019-09-27T09:39:06.011534Z"
    }
   },
   "outputs": [],
   "source": [
    "x_values = [1, 3, 4, 7]\n",
    "y_values = [2, 10, 17, 50]"
   ]
  },
  {
   "cell_type": "markdown",
   "metadata": {},
   "source": [
    "Изобразить их на графике можно в одну строчку:"
   ]
  },
  {
   "cell_type": "code",
   "execution_count": null,
   "metadata": {
    "ExecuteTime": {
     "end_time": "2019-09-27T09:39:17.049536Z",
     "start_time": "2019-09-27T09:39:16.869455Z"
    }
   },
   "outputs": [],
   "source": [
    "plt.plot(x_values, y_values);"
   ]
  },
  {
   "cell_type": "markdown",
   "metadata": {},
   "source": [
    "Но чтобы настроить внешний вид графика, понадобится использовать дополнительные параметры функции plot() и, возможно, дописывать дополнительный код. Ниже мы познакомимся с некоторыми основными возможностями matplotlib."
   ]
  },
  {
   "cell_type": "markdown",
   "metadata": {},
   "source": [
    "## Простой график"
   ]
  },
  {
   "cell_type": "markdown",
   "metadata": {},
   "source": [
    "#### Генерируем набор данных"
   ]
  },
  {
   "cell_type": "code",
   "execution_count": null,
   "metadata": {
    "ExecuteTime": {
     "end_time": "2019-09-27T09:39:29.065637Z",
     "start_time": "2019-09-27T09:39:29.061674Z"
    }
   },
   "outputs": [],
   "source": [
    "data = range(3, 10)\n",
    "print(data)"
   ]
  },
  {
   "cell_type": "markdown",
   "metadata": {},
   "source": [
    "#### Строим график с помощью команды plot"
   ]
  },
  {
   "cell_type": "code",
   "execution_count": null,
   "metadata": {
    "ExecuteTime": {
     "end_time": "2019-09-27T09:39:34.198037Z",
     "start_time": "2019-09-27T09:39:34.047322Z"
    }
   },
   "outputs": [],
   "source": [
    "plt.plot(data);"
   ]
  },
  {
   "cell_type": "markdown",
   "metadata": {},
   "source": [
    "## Настройка внешнего вида графика"
   ]
  },
  {
   "cell_type": "markdown",
   "metadata": {},
   "source": [
    "#### Тип и цвет линии"
   ]
  },
  {
   "cell_type": "code",
   "execution_count": null,
   "metadata": {
    "ExecuteTime": {
     "end_time": "2019-09-27T09:39:38.344762Z",
     "start_time": "2019-09-27T09:39:38.317460Z"
    }
   },
   "outputs": [],
   "source": [
    "?plt.plot"
   ]
  },
  {
   "cell_type": "code",
   "execution_count": null,
   "metadata": {
    "ExecuteTime": {
     "end_time": "2019-09-27T09:39:56.157002Z",
     "start_time": "2019-09-27T09:39:55.986997Z"
    }
   },
   "outputs": [],
   "source": [
    "plt.plot(data, color = 'g')"
   ]
  },
  {
   "cell_type": "code",
   "execution_count": null,
   "metadata": {
    "ExecuteTime": {
     "end_time": "2019-09-27T09:40:13.856564Z",
     "start_time": "2019-09-27T09:40:13.699967Z"
    }
   },
   "outputs": [],
   "source": [
    "plt.plot(data, '--')"
   ]
  },
  {
   "cell_type": "code",
   "execution_count": null,
   "metadata": {},
   "outputs": [],
   "source": [
    "plt.plot(data, '--')"
   ]
  },
  {
   "cell_type": "code",
   "execution_count": null,
   "metadata": {},
   "outputs": [],
   "source": [
    "plt.plot(data, '*')"
   ]
  },
  {
   "cell_type": "code",
   "execution_count": null,
   "metadata": {
    "ExecuteTime": {
     "end_time": "2019-09-27T09:40:21.784710Z",
     "start_time": "2019-09-27T09:40:21.626262Z"
    }
   },
   "outputs": [],
   "source": [
    "plt.plot(data, 'g*')"
   ]
  },
  {
   "cell_type": "markdown",
   "metadata": {},
   "source": [
    "#### Задаем размер графика"
   ]
  },
  {
   "cell_type": "code",
   "execution_count": null,
   "metadata": {
    "ExecuteTime": {
     "end_time": "2019-09-27T09:40:38.441301Z",
     "start_time": "2019-09-27T09:40:38.138670Z"
    }
   },
   "outputs": [],
   "source": [
    "plt.figure(figsize=(12, 10))\n",
    "plt.plot(data)"
   ]
  },
  {
   "cell_type": "markdown",
   "metadata": {},
   "source": [
    "#### Добавляем сетку"
   ]
  },
  {
   "cell_type": "code",
   "execution_count": null,
   "metadata": {
    "ExecuteTime": {
     "end_time": "2019-09-27T09:40:43.287790Z",
     "start_time": "2019-09-27T09:40:43.074610Z"
    }
   },
   "outputs": [],
   "source": [
    "plt.figure(figsize=(10, 6))\n",
    "plt.grid()\n",
    "plt.plot(data)"
   ]
  },
  {
   "cell_type": "markdown",
   "metadata": {},
   "source": [
    "#### Добавляем название графика"
   ]
  },
  {
   "cell_type": "code",
   "execution_count": null,
   "metadata": {},
   "outputs": [],
   "source": [
    "plt.title('Plot name')\n",
    "plt.plot(data)"
   ]
  },
  {
   "cell_type": "code",
   "execution_count": null,
   "metadata": {
    "ExecuteTime": {
     "end_time": "2019-09-27T09:40:50.904287Z",
     "start_time": "2019-09-27T09:40:50.737141Z"
    }
   },
   "outputs": [],
   "source": [
    "#не будет работать во втором Питоне\n",
    "plt.title('Русскоязычное навзание')\n",
    "plt.plot(data)"
   ]
  },
  {
   "cell_type": "code",
   "execution_count": null,
   "metadata": {},
   "outputs": [],
   "source": [
    "# будет работать во втором Питоне\n",
    "plt.title(u'Русскоязычное навзание', family=\"verdana\")\n",
    "plt.plot(data)"
   ]
  },
  {
   "cell_type": "markdown",
   "metadata": {},
   "source": [
    "#### Подписи к осям"
   ]
  },
  {
   "cell_type": "code",
   "execution_count": null,
   "metadata": {},
   "outputs": [],
   "source": [
    "plt.title(u'Название', family='verdana')\n",
    "plt.grid()\n",
    "plt.xlabel(u'Ось x', family='verdana')\n",
    "plt.ylabel(u'Ось y', family='verdana')\n",
    "plt.plot(data)"
   ]
  },
  {
   "cell_type": "markdown",
   "metadata": {},
   "source": [
    "#### Подписи на графике"
   ]
  },
  {
   "cell_type": "code",
   "execution_count": null,
   "metadata": {},
   "outputs": [],
   "source": [
    "plt.grid()\n",
    "plt.title(u'Название', family='verdana')\n",
    "plt.xlabel(u'Ось x', family='verdana')\n",
    "plt.ylabel(u'Ось y', family='verdana')\n",
    "plt.text(4.5, 4.1, u'Очень важный комментарий', family=\"verdana\")\n",
    "plt.text(4.5, 3.5, u'Еще один очень важный комментарий', family=\"verdana\")\n",
    "plt.plot(data)"
   ]
  },
  {
   "cell_type": "markdown",
   "metadata": {},
   "source": [
    "## Много гарфиков на одной плоскости"
   ]
  },
  {
   "cell_type": "markdown",
   "metadata": {},
   "source": [
    "#### Сгенерируем данные"
   ]
  },
  {
   "cell_type": "code",
   "execution_count": null,
   "metadata": {
    "ExecuteTime": {
     "end_time": "2019-09-27T09:41:16.295688Z",
     "start_time": "2019-09-27T09:41:16.292174Z"
    },
    "scrolled": true
   },
   "outputs": [],
   "source": [
    "for i in range(10):\n",
    "    print(i**2)"
   ]
  },
  {
   "cell_type": "code",
   "execution_count": null,
   "metadata": {
    "ExecuteTime": {
     "end_time": "2019-09-27T09:41:20.137259Z",
     "start_time": "2019-09-27T09:41:20.133998Z"
    }
   },
   "outputs": [],
   "source": [
    "linear = range(10)\n",
    "nonlinear = [x ** 2 for x in range(10)]"
   ]
  },
  {
   "cell_type": "code",
   "execution_count": null,
   "metadata": {
    "ExecuteTime": {
     "end_time": "2019-09-27T09:41:20.890474Z",
     "start_time": "2019-09-27T09:41:20.886810Z"
    }
   },
   "outputs": [],
   "source": [
    "nonlinear"
   ]
  },
  {
   "cell_type": "markdown",
   "metadata": {},
   "source": [
    "#### Построим график"
   ]
  },
  {
   "cell_type": "code",
   "execution_count": null,
   "metadata": {
    "ExecuteTime": {
     "end_time": "2019-09-27T09:41:24.479921Z",
     "start_time": "2019-09-27T09:41:24.318293Z"
    }
   },
   "outputs": [],
   "source": [
    "plt.grid()\n",
    "plt.plot(linear, 'b-')\n",
    "plt.plot(nonlinear, 'g^')"
   ]
  },
  {
   "cell_type": "markdown",
   "metadata": {},
   "source": [
    "#### Подписи к осям"
   ]
  },
  {
   "cell_type": "code",
   "execution_count": null,
   "metadata": {},
   "outputs": [],
   "source": [
    "?plt.scatter(6, 6)"
   ]
  },
  {
   "cell_type": "code",
   "execution_count": null,
   "metadata": {
    "ExecuteTime": {
     "end_time": "2019-09-27T09:41:30.949463Z",
     "start_time": "2019-09-27T09:41:30.762435Z"
    }
   },
   "outputs": [],
   "source": [
    "plt.grid()\n",
    "plt.plot(linear, 'b-')\n",
    "plt.plot(nonlinear, 'g-')\n",
    "plt.scatter(6, 6)\n",
    "plt.legend(['linear', 'nonlinear'])"
   ]
  },
  {
   "cell_type": "code",
   "execution_count": null,
   "metadata": {},
   "outputs": [],
   "source": [
    "plt.grid()\n",
    "plt.plot(linear, 'b-')\n",
    "plt.plot(nonlinear, 'g-')\n",
    "plt.legend(['linear', 'nonlinear'], loc=5)"
   ]
  },
  {
   "cell_type": "markdown",
   "metadata": {},
   "source": [
    "## Много графиков на одном изображении"
   ]
  },
  {
   "cell_type": "code",
   "execution_count": null,
   "metadata": {
    "ExecuteTime": {
     "end_time": "2019-09-27T09:42:01.766000Z",
     "start_time": "2019-09-27T09:42:01.531454Z"
    }
   },
   "outputs": [],
   "source": [
    "plt.figure(figsize=(6, 4))\n",
    "\n",
    "plt.subplot(211)\n",
    "plt.grid()\n",
    "plt.plot(linear, 'b-')\n",
    "\n",
    "plt.subplot(212)\n",
    "plt.grid()\n",
    "plt.plot(nonlinear, 'g-')"
   ]
  },
  {
   "cell_type": "code",
   "execution_count": null,
   "metadata": {
    "ExecuteTime": {
     "end_time": "2019-09-27T09:42:09.177971Z",
     "start_time": "2019-09-27T09:42:09.173332Z"
    }
   },
   "outputs": [],
   "source": [
    "?plt.subplot"
   ]
  },
  {
   "cell_type": "markdown",
   "metadata": {},
   "source": [
    "## Как сохранить график"
   ]
  },
  {
   "cell_type": "code",
   "execution_count": null,
   "metadata": {},
   "outputs": [],
   "source": [
    "plt.grid()\n",
    "plt.plot(linear, 'b-')\n",
    "plt.plot(nonlinear, 'r*')\n",
    "plt.legend(['linear', 'nonlinear'], loc=2)\n",
    "plt.savefig('../saved_plot.png')"
   ]
  },
  {
   "cell_type": "markdown",
   "metadata": {},
   "source": [
    "Мы научились:\n",
    "   * Строить графики в matplotlib - команда plot();\n",
    "   * Настраивать внешний вид графика: сетка, подписи, несколько графиков;\n",
    "   * Сохранять полученные графики в виде изображения для дальнейшего использования."
   ]
  },
  {
   "cell_type": "code",
   "execution_count": null,
   "metadata": {},
   "outputs": [],
   "source": []
  },
  {
   "cell_type": "markdown",
   "metadata": {},
   "source": [
    "# Seaborn"
   ]
  },
  {
   "cell_type": "markdown",
   "metadata": {},
   "source": [
    "Новое (на самом деле уже не новое) средство визуализации, которое гибко подстраивается под табличные данные с типами от pandas и numpy.\n",
    "Обладает несколькими приятными дополнениями к графиками и встроенными эстетичными темами"
   ]
  },
  {
   "cell_type": "code",
   "execution_count": null,
   "metadata": {
    "ExecuteTime": {
     "end_time": "2019-09-27T09:42:55.365284Z",
     "start_time": "2019-09-27T09:42:54.531313Z"
    }
   },
   "outputs": [],
   "source": [
    "import seaborn as sns\n",
    "import pandas as pd\n",
    "import matplotlib.pyplot as plt\n",
    "sns.set();"
   ]
  },
  {
   "cell_type": "markdown",
   "metadata": {},
   "source": [
    "Прочитаем таблицу с помощью pandas"
   ]
  },
  {
   "cell_type": "code",
   "execution_count": null,
   "metadata": {
    "ExecuteTime": {
     "end_time": "2019-09-27T09:42:55.379091Z",
     "start_time": "2019-09-27T09:42:55.367095Z"
    }
   },
   "outputs": [],
   "source": [
    "df = pd.read_csv('Pokemon.csv', index_col=0)"
   ]
  },
  {
   "cell_type": "markdown",
   "metadata": {},
   "source": [
    "Посмотрим на нее"
   ]
  },
  {
   "cell_type": "code",
   "execution_count": null,
   "metadata": {
    "ExecuteTime": {
     "end_time": "2019-09-27T09:42:56.237492Z",
     "start_time": "2019-09-27T09:42:56.222261Z"
    }
   },
   "outputs": [],
   "source": [
    "df.head()"
   ]
  },
  {
   "cell_type": "markdown",
   "metadata": {},
   "source": [
    "Попробуем нарисовать самой просто 2d график"
   ]
  },
  {
   "cell_type": "code",
   "execution_count": null,
   "metadata": {
    "ExecuteTime": {
     "end_time": "2019-09-27T09:43:31.794812Z",
     "start_time": "2019-09-27T09:43:31.344478Z"
    }
   },
   "outputs": [],
   "source": [
    "sns.lmplot(x='Attack', y='Defense', data=df)"
   ]
  },
  {
   "cell_type": "markdown",
   "metadata": {},
   "source": [
    "Как видите, seaborn дополнительно сам построил линейную модель, оценил ее доерительные интервалы и нарисовал это! Очень удобно для базового понимания датасета\n",
    "\n",
    "Если мы хотим отразить третий параметр, мы можем сделать это с помощью цвета"
   ]
  },
  {
   "cell_type": "code",
   "execution_count": null,
   "metadata": {
    "ExecuteTime": {
     "end_time": "2019-09-27T09:43:53.517884Z",
     "start_time": "2019-09-27T09:43:53.051269Z"
    }
   },
   "outputs": [],
   "source": [
    "sns.lmplot(x='Attack', y='Defense', data=df,\n",
    "           hue='Stage')   # Color by evolution stage\n"
   ]
  },
  {
   "cell_type": "code",
   "execution_count": null,
   "metadata": {
    "ExecuteTime": {
     "end_time": "2019-09-27T09:44:04.987727Z",
     "start_time": "2019-09-27T09:44:04.518678Z"
    }
   },
   "outputs": [],
   "source": [
    "# Customizing with Matplotlib\n",
    "# Plot using Seaborn\n",
    "sns.lmplot(x='Attack', y='Defense', data=df,\n",
    "           fit_reg=False, \n",
    "           hue='Stage')\n",
    " \n",
    "# Tweak using Matplotlib\n",
    "plt.ylim(0, None)\n",
    "plt.xlim(0, None)"
   ]
  },
  {
   "cell_type": "markdown",
   "metadata": {},
   "source": [
    "Seaborn поддерживает широкий спектр инструментов для визуашизации. Почти в каждом виде есть приятные особенности, которые делают ваши графики как удобными для анализа, так и для представления заказчикам."
   ]
  },
  {
   "cell_type": "code",
   "execution_count": null,
   "metadata": {
    "ExecuteTime": {
     "end_time": "2019-09-27T09:44:21.268459Z",
     "start_time": "2019-09-27T09:44:20.828648Z"
    }
   },
   "outputs": [],
   "source": [
    "plt.figure(figsize=(12,10))\n",
    "sns.boxplot(data=df);"
   ]
  },
  {
   "cell_type": "code",
   "execution_count": null,
   "metadata": {
    "ExecuteTime": {
     "end_time": "2019-09-27T09:45:37.897940Z",
     "start_time": "2019-09-27T09:45:37.492360Z"
    }
   },
   "outputs": [],
   "source": [
    "# Pre-format DataFrame\n",
    "stats_df = df.drop(['Total', 'Stage', 'Legendary'], axis=1)\n",
    " \n",
    "# New boxplot using stats_df\n",
    "plt.figure(figsize=(12,10))\n",
    "sns.boxplot(data=stats_df)"
   ]
  },
  {
   "cell_type": "markdown",
   "metadata": {},
   "source": [
    "Seaborn поддерживает темы и вообще очень кастомизируемый.\n",
    "В его основе лежит все тот же matplotlib, поэтому если есть необходимость поменять какие-то параметры, это можно сделать через matplotlib.\n",
    "\n",
    "А в matplotlibk реализован огромный функционал кастомизации. \n",
    "\n",
    "Еще один вариант изобразить данные - violinplot"
   ]
  },
  {
   "cell_type": "code",
   "execution_count": null,
   "metadata": {
    "ExecuteTime": {
     "end_time": "2019-09-27T09:45:49.347262Z",
     "start_time": "2019-09-27T09:45:48.872322Z"
    }
   },
   "outputs": [],
   "source": [
    "# Set theme\n",
    "sns.set_style('whitegrid')\n",
    " \n",
    "# Violin plot\n",
    "plt.figure(figsize=(12,10))\n",
    "sns.violinplot(x='Type 1', y='Attack', data=df)"
   ]
  },
  {
   "cell_type": "markdown",
   "metadata": {},
   "source": [
    "Стандартный хитмапы seaborn тоже достаточно симпатичные. При этом существует несколько тем (холодное-горячее и т д)"
   ]
  },
  {
   "cell_type": "code",
   "execution_count": null,
   "metadata": {
    "ExecuteTime": {
     "end_time": "2019-09-27T01:09:04.352593Z",
     "start_time": "2019-09-27T01:09:04.130133Z"
    }
   },
   "outputs": [],
   "source": [
    "# Calculate correlations\n",
    "corr = stats_df.corr()\n",
    " \n",
    "# Heatmap\n",
    "sns.heatmap(corr)"
   ]
  },
  {
   "cell_type": "code",
   "execution_count": null,
   "metadata": {
    "ExecuteTime": {
     "end_time": "2019-09-27T09:47:28.361428Z",
     "start_time": "2019-09-27T09:47:28.072870Z"
    }
   },
   "outputs": [],
   "source": [
    "sns.distplot(df.Attack)"
   ]
  },
  {
   "cell_type": "markdown",
   "metadata": {},
   "source": [
    "Еще несколько примеров визауализации данных"
   ]
  },
  {
   "cell_type": "code",
   "execution_count": null,
   "metadata": {
    "ExecuteTime": {
     "end_time": "2019-09-27T09:47:56.281387Z",
     "start_time": "2019-09-27T09:47:55.904176Z"
    }
   },
   "outputs": [],
   "source": [
    "# Count Plot (a.k.a. Bar Plot)\n",
    "plt.figure(figsize=(12,10))\n",
    "sns.countplot(x='Type 1', data=df)\n",
    " \n",
    "# Rotate x-labels\n",
    "plt.xticks(rotation=-45)"
   ]
  },
  {
   "cell_type": "code",
   "execution_count": null,
   "metadata": {
    "ExecuteTime": {
     "end_time": "2019-09-27T09:48:04.944056Z",
     "start_time": "2019-09-27T09:48:04.648095Z"
    }
   },
   "outputs": [],
   "source": [
    "sns.kdeplot(df.Attack, df.Defense)"
   ]
  },
  {
   "cell_type": "code",
   "execution_count": null,
   "metadata": {
    "ExecuteTime": {
     "end_time": "2019-09-27T01:10:01.110508Z",
     "start_time": "2019-09-27T01:10:00.384888Z"
    }
   },
   "outputs": [],
   "source": [
    "sns.jointplot(x='Attack', y='Defense', data=df)\n"
   ]
  },
  {
   "cell_type": "markdown",
   "metadata": {},
   "source": [
    "# Что еще можно попробовать:"
   ]
  },
  {
   "cell_type": "markdown",
   "metadata": {},
   "source": [
    "### 3d графики\n",
    "http://matplotlib.org/mpl_toolkits/mplot3d/tutorial.html#mplot3d-tutorial"
   ]
  },
  {
   "cell_type": "markdown",
   "metadata": {},
   "source": [
    "### \"Живые\" графики\n",
    "https://plot.ly/python/"
   ]
  },
  {
   "cell_type": "code",
   "execution_count": null,
   "metadata": {},
   "outputs": [],
   "source": []
  }
 ],
 "metadata": {
  "kernelspec": {
   "display_name": "Python 3",
   "language": "python",
   "name": "python3"
  },
  "language_info": {
   "codemirror_mode": {
    "name": "ipython",
    "version": 3
   },
   "file_extension": ".py",
   "mimetype": "text/x-python",
   "name": "python",
   "nbconvert_exporter": "python",
   "pygments_lexer": "ipython3",
   "version": "3.6.5"
  },
  "toc": {
   "base_numbering": 1,
   "nav_menu": {},
   "number_sections": true,
   "sideBar": true,
   "skip_h1_title": false,
   "title_cell": "Table of Contents",
   "title_sidebar": "Contents",
   "toc_cell": false,
   "toc_position": {},
   "toc_section_display": true,
   "toc_window_display": false
  }
 },
 "nbformat": 4,
 "nbformat_minor": 1
}
