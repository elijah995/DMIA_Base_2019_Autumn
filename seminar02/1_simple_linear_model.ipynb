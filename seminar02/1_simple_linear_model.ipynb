{
 "cells": [
  {
   "cell_type": "markdown",
   "metadata": {},
   "source": [
    "# Линейные модели на пальцах"
   ]
  },
  {
   "cell_type": "markdown",
   "metadata": {},
   "source": [
    "Модуль scipy содержит множество инструментов, предназначенных для научных вычислений. \n",
    "\n",
    "Его различные подмодули соответствуют различным областям применения таким как: интерполяция, оптимизация, обработка изображений, статистика, специальные функции и другие."
   ]
  },
  {
   "cell_type": "code",
   "execution_count": null,
   "metadata": {
    "ExecuteTime": {
     "end_time": "2019-10-12T01:12:32.654581Z",
     "start_time": "2019-10-12T01:12:32.570773Z"
    }
   },
   "outputs": [],
   "source": [
    "import numpy as np"
   ]
  },
  {
   "cell_type": "code",
   "execution_count": null,
   "metadata": {
    "ExecuteTime": {
     "end_time": "2019-10-12T01:12:32.841189Z",
     "start_time": "2019-10-12T01:12:32.739134Z"
    }
   },
   "outputs": [],
   "source": [
    "import scipy\n",
    "import scipy.optimize"
   ]
  },
  {
   "cell_type": "code",
   "execution_count": null,
   "metadata": {
    "ExecuteTime": {
     "end_time": "2019-10-12T01:12:33.116527Z",
     "start_time": "2019-10-12T01:12:32.933534Z"
    }
   },
   "outputs": [],
   "source": [
    "import matplotlib.pyplot as plt\n",
    "%matplotlib inline"
   ]
  },
  {
   "cell_type": "markdown",
   "metadata": {},
   "source": [
    "# Попробуем написать самое простое линейное уравнение"
   ]
  },
  {
   "cell_type": "markdown",
   "metadata": {},
   "source": [
    "Давайте напишем класс, который будеть искать линейную зависимость методом наименьших квадратов\n",
    "\n",
    "$\\sum_{i=1}^n (<w, x_i> - y_i)^2 \\to \\min_{w}$\n",
    "\n",
    "заодно узнаем как писать свои классы :)"
   ]
  },
  {
   "cell_type": "code",
   "execution_count": null,
   "metadata": {
    "ExecuteTime": {
     "end_time": "2019-10-12T01:12:34.281737Z",
     "start_time": "2019-10-12T01:12:34.275004Z"
    }
   },
   "outputs": [],
   "source": [
    "class LinearModel(object): # наследуемся от object – стандартная практика\n",
    "    def __init__(self, loss_function): # конструктор имеет название __init__ и первым аргументом всегда имеет self\n",
    "        self.loss_function = loss_function\n",
    "        \n",
    "    def fit(self, X_data, y_data):\n",
    "        \"\"\"\n",
    "        тут можно написать документацию метода\n",
    "        X - это выборка признаков, y - выборка целевых переменных\n",
    "        \"\"\"\n",
    "        # пока сделаем реализацию через scipy.optimize\n",
    "        \n",
    "        def func(weights):\n",
    "            return np.sum(self.loss_function(np.dot(X_data, weights[1:]) + weights[0] - y_data))\n",
    "        \n",
    "        self.weights = scipy.optimize.minimize(func, np.ones(X_data.shape[1] + 1)).x\n",
    "        return self\n",
    "        \n",
    "    def predict(self, X_data):\n",
    "        return np.dot(X_data, self.weights[1:]) + self.weights[0]"
   ]
  },
  {
   "cell_type": "markdown",
   "metadata": {},
   "source": [
    "Генерируем данные"
   ]
  },
  {
   "cell_type": "code",
   "execution_count": null,
   "metadata": {
    "ExecuteTime": {
     "end_time": "2019-10-12T01:12:34.734353Z",
     "start_time": "2019-10-12T01:12:34.731476Z"
    }
   },
   "outputs": [],
   "source": [
    "X_data = np.random.uniform(0, 10, size=50)\n",
    "y_data = X_data * 0.5 + 7 + np.random.uniform(-1, 1, size=len(X_data))"
   ]
  },
  {
   "cell_type": "markdown",
   "metadata": {},
   "source": [
    "И визуализируем их"
   ]
  },
  {
   "cell_type": "code",
   "execution_count": null,
   "metadata": {
    "ExecuteTime": {
     "end_time": "2019-10-12T01:12:35.271897Z",
     "start_time": "2019-10-12T01:12:35.096013Z"
    }
   },
   "outputs": [],
   "source": [
    "plt.figure(figsize=(10, 5))\n",
    "plt.scatter(X_data, y_data)\n",
    "plt.ylim(0)\n",
    "plt.xlim(0)\n",
    "plt.grid()\n",
    "plt.show()"
   ]
  },
  {
   "cell_type": "markdown",
   "metadata": {},
   "source": [
    "Далее обучаем модель"
   ]
  },
  {
   "cell_type": "code",
   "execution_count": null,
   "metadata": {
    "ExecuteTime": {
     "end_time": "2019-10-12T01:12:35.470951Z",
     "start_time": "2019-10-12T01:12:35.455050Z"
    }
   },
   "outputs": [],
   "source": [
    "model = LinearModel(lambda arr: np.abs(arr)).fit(X_data[:, np.newaxis], y_data)"
   ]
  },
  {
   "cell_type": "markdown",
   "metadata": {},
   "source": [
    "И визуализируем её"
   ]
  },
  {
   "cell_type": "code",
   "execution_count": null,
   "metadata": {
    "ExecuteTime": {
     "end_time": "2019-10-12T01:12:35.955858Z",
     "start_time": "2019-10-12T01:12:35.775307Z"
    }
   },
   "outputs": [],
   "source": [
    "plt.figure(figsize=(10, 5))\n",
    "plt.scatter(X_data, y_data)\n",
    "plt.plot(X_data, model.predict(X_data[:, np.newaxis]), c='green', linewidth=5)\n",
    "plt.ylim(0)\n",
    "plt.xlim(0)\n",
    "plt.grid()\n",
    "plt.show()"
   ]
  },
  {
   "cell_type": "markdown",
   "metadata": {},
   "source": [
    "Объединим всё в одну функцию чтобы было проще рисовать"
   ]
  },
  {
   "cell_type": "code",
   "execution_count": null,
   "metadata": {
    "ExecuteTime": {
     "end_time": "2019-10-12T01:12:36.110122Z",
     "start_time": "2019-10-12T01:12:36.101528Z"
    }
   },
   "outputs": [],
   "source": [
    "def plot_example(error_size=1, loss_function=None, outliers_num=0):\n",
    "    if loss_function is None:\n",
    "        loss_function = lambda arr: arr ** 2\n",
    "    \n",
    "    X_data = np.random.uniform(0, 10, size=50)\n",
    "    y_data = X_data * 0.5 + 7 + np.random.uniform(-error_size, error_size, size=len(X_data))\n",
    "    \n",
    "    if outliers_num > 0:\n",
    "        X_out = 1 + np.random.uniform(-0.7, 0.7, size=outliers_num)\n",
    "        y_out = 20 + np.random.uniform(-0.7, 0.7, size=outliers_num)\n",
    "        X_data = np.concatenate((X_data, X_out))\n",
    "        y_data = np.concatenate((y_data, y_out))\n",
    "    \n",
    "    model = LinearModel(loss_function).fit(X_data[:, np.newaxis], y_data)\n",
    "    \n",
    "    plt.figure(figsize=(10, 5))\n",
    "    plt.scatter(X_data, y_data)\n",
    "    plt.plot(X_data, model.predict(X_data[:, np.newaxis]), c='green', linewidth=5)\n",
    "    plt.ylim(0)\n",
    "    plt.xlim(0)\n",
    "    plt.grid()\n",
    "    plt.show()"
   ]
  },
  {
   "cell_type": "code",
   "execution_count": null,
   "metadata": {
    "ExecuteTime": {
     "end_time": "2019-10-12T01:12:36.435960Z",
     "start_time": "2019-10-12T01:12:36.258080Z"
    }
   },
   "outputs": [],
   "source": [
    "plot_example(1, lambda arr: arr ** 2)"
   ]
  },
  {
   "cell_type": "markdown",
   "metadata": {},
   "source": [
    "Вроде всё хорошо, но добавим выбросы?"
   ]
  },
  {
   "cell_type": "code",
   "execution_count": null,
   "metadata": {
    "ExecuteTime": {
     "end_time": "2019-10-12T01:12:36.806000Z",
     "start_time": "2019-10-12T01:12:36.591239Z"
    }
   },
   "outputs": [],
   "source": [
    "plot_example(1, lambda arr: arr ** 2, outliers_num=10)"
   ]
  },
  {
   "cell_type": "markdown",
   "metadata": {},
   "source": [
    "Линия ушла вверх и покосилась, почему так получается? Давайте заменим функцию потрель на модуль? Ну так, чисто по фану"
   ]
  },
  {
   "cell_type": "code",
   "execution_count": null,
   "metadata": {
    "ExecuteTime": {
     "end_time": "2019-10-12T01:12:37.113609Z",
     "start_time": "2019-10-12T01:12:36.917337Z"
    }
   },
   "outputs": [],
   "source": [
    "plot_example(1, lambda arr: np.abs(arr), outliers_num=10)"
   ]
  },
  {
   "cell_type": "markdown",
   "metadata": {},
   "source": [
    "Внезапно заработало, почему так? Обязательно расскажем на занятии про метрики, а пока можете попробовать сами обосновать"
   ]
  },
  {
   "cell_type": "markdown",
   "metadata": {},
   "source": [
    "# Попробуем взять функцию посложнее"
   ]
  },
  {
   "cell_type": "markdown",
   "metadata": {},
   "source": [
    "И использовать seaborn!"
   ]
  },
  {
   "cell_type": "code",
   "execution_count": null,
   "metadata": {
    "ExecuteTime": {
     "end_time": "2019-10-12T01:12:37.934757Z",
     "start_time": "2019-10-12T01:12:37.590477Z"
    }
   },
   "outputs": [],
   "source": [
    "import seaborn as sns\n",
    "sns.set();"
   ]
  },
  {
   "cell_type": "code",
   "execution_count": null,
   "metadata": {
    "ExecuteTime": {
     "end_time": "2019-10-12T01:12:38.230138Z",
     "start_time": "2019-10-12T01:12:37.936459Z"
    },
    "scrolled": false
   },
   "outputs": [],
   "source": [
    "error_size = 2\n",
    "X_data = np.random.uniform(-5, 5, size=100)\n",
    "y_data = 2*X_data**2 - X_data * 0.5 + 7 + np.random.uniform(-error_size, error_size, size=len(X_data))\n",
    "\n",
    "# ничего не меняется\n",
    "plt.figure(figsize=(8, 8))\n",
    "sns.scatterplot(X_data, y_data, s=150);"
   ]
  },
  {
   "cell_type": "code",
   "execution_count": null,
   "metadata": {
    "ExecuteTime": {
     "end_time": "2019-10-12T01:12:38.533081Z",
     "start_time": "2019-10-12T01:12:38.231570Z"
    }
   },
   "outputs": [],
   "source": [
    "error_size = 2\n",
    "X_data = np.random.uniform(-5, 5, size=100)\n",
    "y_data = 2*X_data**2 - X_data * 0.5 + 7 + np.random.uniform(-error_size, error_size, size=len(X_data))\n",
    "\n",
    "model = LinearModel(lambda arr: np.abs(arr)).fit(X_data[:, np.newaxis], y_data)\n",
    "\n",
    "# ничего не меняется\n",
    "plt.figure(figsize=(8, 8))\n",
    "sns.scatterplot(X_data, y_data, s=150);\n",
    "plt.plot(X_data, model.predict(X_data[:, np.newaxis]), c='green', linewidth=5);"
   ]
  },
  {
   "cell_type": "markdown",
   "metadata": {},
   "source": [
    "Теперь усложним и модель!"
   ]
  },
  {
   "cell_type": "code",
   "execution_count": null,
   "metadata": {
    "ExecuteTime": {
     "end_time": "2019-10-12T01:12:38.844512Z",
     "start_time": "2019-10-12T01:12:38.534812Z"
    }
   },
   "outputs": [],
   "source": [
    "error_size = 2\n",
    "\n",
    "X_data = np.sort(np.random.uniform(-5, 5, size=100))\n",
    "X_col = X_data[:, np.newaxis]\n",
    "features = np.append(X_col, X_col**2, axis=1)\n",
    "\n",
    "y_data = 2*X_data**2 - X_data * 0.5 + 7 + np.random.uniform(-error_size, error_size, size=len(X_data))\n",
    "\n",
    "model = LinearModel(lambda arr: np.abs(arr)).fit(features, y_data)\n",
    "\n",
    "# ничего не меняется\n",
    "plt.figure(figsize=(8, 8))\n",
    "sns.scatterplot(X_data, y_data, s=150);\n",
    "plt.plot(X_data, model.predict(features), c='green', linewidth=5);"
   ]
  },
  {
   "cell_type": "code",
   "execution_count": null,
   "metadata": {},
   "outputs": [],
   "source": []
  },
  {
   "cell_type": "code",
   "execution_count": null,
   "metadata": {},
   "outputs": [],
   "source": []
  }
 ],
 "metadata": {
  "kernelspec": {
   "display_name": "python343",
   "language": "python",
   "name": "python343"
  },
  "language_info": {
   "codemirror_mode": {
    "name": "ipython",
    "version": 3
   },
   "file_extension": ".py",
   "mimetype": "text/x-python",
   "name": "python",
   "nbconvert_exporter": "python",
   "pygments_lexer": "ipython3",
   "version": "3.7.4"
  },
  "toc": {
   "base_numbering": 1,
   "nav_menu": {},
   "number_sections": true,
   "sideBar": true,
   "skip_h1_title": false,
   "title_cell": "Table of Contents",
   "title_sidebar": "Contents",
   "toc_cell": false,
   "toc_position": {},
   "toc_section_display": true,
   "toc_window_display": false
  }
 },
 "nbformat": 4,
 "nbformat_minor": 2
}
