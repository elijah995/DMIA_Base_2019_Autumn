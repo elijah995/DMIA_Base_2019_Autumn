{
 "cells": [
  {
   "cell_type": "markdown",
   "metadata": {},
   "source": [
    "# Sklearn\n",
    "Основа материала взята из репозитория https://github.com/emeli-dral/sklearn_intro\n",
    "\n",
    "Обновлено Константином Чукреевым"
   ]
  },
  {
   "cell_type": "markdown",
   "metadata": {},
   "source": [
    "## sklearn.linear_model"
   ]
  },
  {
   "cell_type": "markdown",
   "metadata": {},
   "source": [
    "**linear_model:**\n",
    "* RidgeClassifier\n",
    "* SGDClassifier\n",
    "* SGDRegressor\n",
    "* LinearRegression\n",
    "* LogisticRegression\n",
    "* Lasso\n",
    "* etc"
   ]
  },
  {
   "cell_type": "markdown",
   "metadata": {},
   "source": [
    "документация: http://scikit-learn.org/stable/modules/classes.html#module-sklearn.linear_model\n",
    "\n",
    "примеры: http://scikit-learn.org/stable/modules/linear_model.html#linear-model"
   ]
  },
  {
   "cell_type": "code",
   "execution_count": null,
   "metadata": {
    "ExecuteTime": {
     "end_time": "2019-10-12T00:03:58.041913Z",
     "start_time": "2019-10-12T00:03:58.037935Z"
    }
   },
   "outputs": [],
   "source": [
    "from sklearn import model_selection, datasets, linear_model, metrics\n",
    "\n",
    "import numpy as np\n",
    "import seaborn as sns\n",
    "import pandas as pd\n",
    "sns.set();"
   ]
  },
  {
   "cell_type": "code",
   "execution_count": null,
   "metadata": {
    "ExecuteTime": {
     "end_time": "2019-10-11T23:55:54.611349Z",
     "start_time": "2019-10-11T23:55:54.426999Z"
    }
   },
   "outputs": [],
   "source": [
    "%pylab inline"
   ]
  },
  {
   "cell_type": "code",
   "execution_count": null,
   "metadata": {
    "ExecuteTime": {
     "end_time": "2019-10-11T23:56:27.708764Z",
     "start_time": "2019-10-11T23:56:27.682828Z"
    }
   },
   "outputs": [],
   "source": [
    "np.meshgrid?"
   ]
  },
  {
   "cell_type": "code",
   "execution_count": null,
   "metadata": {
    "ExecuteTime": {
     "end_time": "2019-10-11T23:58:53.301593Z",
     "start_time": "2019-10-11T23:58:53.298445Z"
    }
   },
   "outputs": [],
   "source": [
    "xx.ravel?"
   ]
  },
  {
   "cell_type": "code",
   "execution_count": null,
   "metadata": {
    "ExecuteTime": {
     "end_time": "2019-10-11T23:55:54.619395Z",
     "start_time": "2019-10-11T23:55:54.612886Z"
    }
   },
   "outputs": [],
   "source": [
    "def make_meshgrid(x, y, h=.02):\n",
    "    \"\"\"Create a mesh of points to plot in\n",
    "\n",
    "    Parameters\n",
    "    ----------\n",
    "    x: data to base x-axis meshgrid on\n",
    "    y: data to base y-axis meshgrid on\n",
    "    h: stepsize for meshgrid, optional\n",
    "\n",
    "    Returns\n",
    "    -------\n",
    "    xx, yy : ndarray\n",
    "    \"\"\"\n",
    "    x_min, x_max = x.min() - 1, x.max() + 1\n",
    "    y_min, y_max = y.min() - 1, y.max() + 1\n",
    "    xx, yy = np.meshgrid(np.arange(x_min, x_max, h),\n",
    "                         np.arange(y_min, y_max, h))\n",
    "    return xx, yy\n",
    "\n",
    "\n",
    "def plot_contours(ax, clf, xx, yy, **params):\n",
    "    \"\"\"Plot the decision boundaries for a classifier.\n",
    "\n",
    "    Parameters\n",
    "    ----------\n",
    "    ax: matplotlib axes object\n",
    "    clf: a classifier\n",
    "    xx: meshgrid ndarray\n",
    "    yy: meshgrid ndarray\n",
    "    params: dictionary of params to pass to contourf, optional\n",
    "    \"\"\"\n",
    "    Z = clf.predict(np.c_[xx.ravel(), yy.ravel()])\n",
    "    Z = Z.reshape(xx.shape)\n",
    "    out = ax.contourf(xx, yy, Z, **params)\n",
    "    return out"
   ]
  },
  {
   "cell_type": "markdown",
   "metadata": {},
   "source": [
    "### Генерация данных"
   ]
  },
  {
   "cell_type": "code",
   "execution_count": null,
   "metadata": {
    "ExecuteTime": {
     "end_time": "2019-10-12T00:01:30.601881Z",
     "start_time": "2019-10-12T00:01:30.596219Z"
    }
   },
   "outputs": [],
   "source": [
    "datasets.make_blobs?"
   ]
  },
  {
   "cell_type": "code",
   "execution_count": null,
   "metadata": {
    "ExecuteTime": {
     "end_time": "2019-10-11T23:59:20.935907Z",
     "start_time": "2019-10-11T23:59:20.932170Z"
    }
   },
   "outputs": [],
   "source": [
    "blobs = datasets.make_blobs(centers=2, cluster_std=3.5, random_state=1)"
   ]
  },
  {
   "cell_type": "code",
   "execution_count": null,
   "metadata": {
    "ExecuteTime": {
     "end_time": "2019-10-12T00:00:16.361316Z",
     "start_time": "2019-10-12T00:00:16.357327Z"
    }
   },
   "outputs": [],
   "source": [
    "blobs[0].shape, blobs[1].shape"
   ]
  },
  {
   "cell_type": "code",
   "execution_count": null,
   "metadata": {
    "ExecuteTime": {
     "end_time": "2019-10-12T00:02:28.822436Z",
     "start_time": "2019-10-12T00:02:28.815442Z"
    }
   },
   "outputs": [],
   "source": [
    "tbl = pd.DataFrame(blobs[0])\n",
    "tbl['target'] = blobs[1]"
   ]
  },
  {
   "cell_type": "code",
   "execution_count": null,
   "metadata": {
    "ExecuteTime": {
     "end_time": "2019-10-12T00:02:32.414625Z",
     "start_time": "2019-10-12T00:02:32.406133Z"
    }
   },
   "outputs": [],
   "source": [
    "tbl.head()"
   ]
  },
  {
   "cell_type": "code",
   "execution_count": null,
   "metadata": {
    "ExecuteTime": {
     "end_time": "2019-10-12T00:14:20.845714Z",
     "start_time": "2019-10-12T00:14:20.498737Z"
    }
   },
   "outputs": [],
   "source": [
    "sns.scatterplot(x=0, y=1, hue='target', data=tbl, s=70);"
   ]
  },
  {
   "cell_type": "code",
   "execution_count": null,
   "metadata": {
    "ExecuteTime": {
     "end_time": "2019-10-12T00:04:51.481055Z",
     "start_time": "2019-10-12T00:04:51.477265Z"
    }
   },
   "outputs": [],
   "source": [
    "train_data, test_data, train_labels, test_labels = model_selection.train_test_split(blobs[0],\n",
    "                                                                                    blobs[1], \n",
    "                                                                                    test_size=0.3,\n",
    "                                                                                    random_state=1)"
   ]
  },
  {
   "cell_type": "markdown",
   "metadata": {},
   "source": [
    "### Линейная классификация"
   ]
  },
  {
   "cell_type": "markdown",
   "metadata": {},
   "source": [
    "#### RidgeClassifier"
   ]
  },
  {
   "cell_type": "code",
   "execution_count": null,
   "metadata": {
    "ExecuteTime": {
     "end_time": "2019-10-12T00:05:33.785029Z",
     "start_time": "2019-10-12T00:05:33.782810Z"
    }
   },
   "outputs": [],
   "source": [
    "#создание объекта - классификатора\n",
    "ridge_classifier = linear_model.RidgeClassifier(random_state=1)"
   ]
  },
  {
   "cell_type": "code",
   "execution_count": null,
   "metadata": {
    "ExecuteTime": {
     "end_time": "2019-10-12T00:05:33.987510Z",
     "start_time": "2019-10-12T00:05:33.982488Z"
    }
   },
   "outputs": [],
   "source": [
    "#обучение классификатора\n",
    "ridge_classifier.fit(train_data, train_labels)"
   ]
  },
  {
   "cell_type": "code",
   "execution_count": null,
   "metadata": {
    "ExecuteTime": {
     "end_time": "2019-10-12T00:05:34.162936Z",
     "start_time": "2019-10-12T00:05:34.160184Z"
    }
   },
   "outputs": [],
   "source": [
    "#применение обученного классификатора\n",
    "ridge_predictions = ridge_classifier.predict(test_data)"
   ]
  },
  {
   "cell_type": "code",
   "execution_count": null,
   "metadata": {
    "ExecuteTime": {
     "end_time": "2019-10-12T00:05:35.296609Z",
     "start_time": "2019-10-12T00:05:35.293096Z"
    }
   },
   "outputs": [],
   "source": [
    "print(test_labels)"
   ]
  },
  {
   "cell_type": "code",
   "execution_count": null,
   "metadata": {
    "ExecuteTime": {
     "end_time": "2019-10-12T00:05:35.954150Z",
     "start_time": "2019-10-12T00:05:35.951153Z"
    }
   },
   "outputs": [],
   "source": [
    "print(ridge_predictions)"
   ]
  },
  {
   "cell_type": "code",
   "execution_count": null,
   "metadata": {
    "ExecuteTime": {
     "end_time": "2019-10-12T00:05:59.895827Z",
     "start_time": "2019-10-12T00:05:59.890422Z"
    },
    "scrolled": true
   },
   "outputs": [],
   "source": [
    "#оценка качества классификации\n",
    "metrics.accuracy_score(test_labels, ridge_predictions)"
   ]
  },
  {
   "cell_type": "code",
   "execution_count": null,
   "metadata": {
    "ExecuteTime": {
     "end_time": "2019-10-12T00:06:06.906977Z",
     "start_time": "2019-10-12T00:06:06.903059Z"
    }
   },
   "outputs": [],
   "source": [
    "print('Intercept', ridge_classifier.intercept_ )\n",
    "print('Coefficients', ridge_classifier.coef_)"
   ]
  },
  {
   "cell_type": "markdown",
   "metadata": {},
   "source": [
    "####  Нарисуем границу принятия решения нашим классификатором"
   ]
  },
  {
   "cell_type": "code",
   "execution_count": null,
   "metadata": {
    "ExecuteTime": {
     "end_time": "2019-10-12T00:11:23.450972Z",
     "start_time": "2019-10-12T00:11:23.444045Z"
    }
   },
   "outputs": [],
   "source": [
    "sns.scatterplot?"
   ]
  },
  {
   "cell_type": "code",
   "execution_count": null,
   "metadata": {
    "ExecuteTime": {
     "end_time": "2019-10-12T00:18:39.957177Z",
     "start_time": "2019-10-12T00:18:39.441767Z"
    }
   },
   "outputs": [],
   "source": [
    "xx, yy = make_meshgrid(blobs[0][:, 0], blobs[0][:, 1])\n",
    "fig, sub = plt.subplots()\n",
    "plot_contours(sub, ridge_classifier, xx, yy)\n",
    "sns.scatterplot(x=0, y=1, hue='target', data=tbl, s=100);"
   ]
  },
  {
   "cell_type": "markdown",
   "metadata": {},
   "source": [
    "#### LogisticRegression"
   ]
  },
  {
   "cell_type": "code",
   "execution_count": null,
   "metadata": {
    "ExecuteTime": {
     "end_time": "2019-10-12T00:17:33.775398Z",
     "start_time": "2019-10-12T00:17:33.772836Z"
    }
   },
   "outputs": [],
   "source": [
    "log_regressor = linear_model.LogisticRegression(random_state=0)"
   ]
  },
  {
   "cell_type": "code",
   "execution_count": null,
   "metadata": {
    "ExecuteTime": {
     "end_time": "2019-10-12T00:17:34.041687Z",
     "start_time": "2019-10-12T00:17:34.036346Z"
    }
   },
   "outputs": [],
   "source": [
    "log_regressor.fit(train_data, train_labels)"
   ]
  },
  {
   "cell_type": "code",
   "execution_count": null,
   "metadata": {
    "ExecuteTime": {
     "end_time": "2019-10-12T00:17:34.231272Z",
     "start_time": "2019-10-12T00:17:34.228515Z"
    }
   },
   "outputs": [],
   "source": [
    "lr_predictions = log_regressor.predict(test_data)"
   ]
  },
  {
   "cell_type": "code",
   "execution_count": null,
   "metadata": {
    "ExecuteTime": {
     "end_time": "2019-10-12T00:17:35.355632Z",
     "start_time": "2019-10-12T00:17:35.353038Z"
    }
   },
   "outputs": [],
   "source": [
    "lr_proba_predictions = log_regressor.predict_proba(test_data)"
   ]
  },
  {
   "cell_type": "code",
   "execution_count": null,
   "metadata": {
    "ExecuteTime": {
     "end_time": "2019-10-12T00:17:35.812586Z",
     "start_time": "2019-10-12T00:17:35.809411Z"
    }
   },
   "outputs": [],
   "source": [
    "print(test_labels)"
   ]
  },
  {
   "cell_type": "code",
   "execution_count": null,
   "metadata": {
    "ExecuteTime": {
     "end_time": "2019-10-12T00:17:36.427398Z",
     "start_time": "2019-10-12T00:17:36.424229Z"
    }
   },
   "outputs": [],
   "source": [
    "print(lr_predictions)"
   ]
  },
  {
   "cell_type": "code",
   "execution_count": null,
   "metadata": {
    "ExecuteTime": {
     "end_time": "2019-10-12T00:17:37.329084Z",
     "start_time": "2019-10-12T00:17:37.325116Z"
    }
   },
   "outputs": [],
   "source": [
    "print(lr_proba_predictions)"
   ]
  },
  {
   "cell_type": "code",
   "execution_count": null,
   "metadata": {
    "ExecuteTime": {
     "end_time": "2019-10-12T00:17:39.679390Z",
     "start_time": "2019-10-12T00:17:39.675127Z"
    }
   },
   "outputs": [],
   "source": [
    "print(metrics.roc_auc_score(test_labels, lr_predictions))"
   ]
  },
  {
   "cell_type": "code",
   "execution_count": null,
   "metadata": {
    "ExecuteTime": {
     "end_time": "2019-10-12T00:17:42.139770Z",
     "start_time": "2019-10-12T00:17:42.135182Z"
    }
   },
   "outputs": [],
   "source": [
    "metrics.roc_auc_score(test_labels, lr_proba_predictions[:,1]) == 1.0"
   ]
  },
  {
   "cell_type": "code",
   "execution_count": null,
   "metadata": {
    "ExecuteTime": {
     "end_time": "2019-10-12T00:17:43.260171Z",
     "start_time": "2019-10-12T00:17:43.255188Z"
    }
   },
   "outputs": [],
   "source": [
    "print(metrics.roc_auc_score(test_labels, lr_proba_predictions[:,1]))"
   ]
  },
  {
   "cell_type": "code",
   "execution_count": null,
   "metadata": {
    "ExecuteTime": {
     "end_time": "2019-10-12T00:17:44.454766Z",
     "start_time": "2019-10-12T00:17:44.451226Z"
    }
   },
   "outputs": [],
   "source": [
    "print(metrics.accuracy_score(test_labels, lr_predictions))"
   ]
  },
  {
   "cell_type": "code",
   "execution_count": null,
   "metadata": {
    "ExecuteTime": {
     "end_time": "2019-10-12T00:17:49.970130Z",
     "start_time": "2019-10-12T00:17:49.967539Z"
    }
   },
   "outputs": [],
   "source": [
    "print(metrics.accuracy_score(test_labels, ridge_predictions))"
   ]
  },
  {
   "cell_type": "code",
   "execution_count": null,
   "metadata": {
    "ExecuteTime": {
     "end_time": "2019-10-12T00:18:03.701209Z",
     "start_time": "2019-10-12T00:18:03.697580Z"
    }
   },
   "outputs": [],
   "source": [
    "print('Intercept', log_regressor.intercept_ )\n",
    "print('Coefficient', log_regressor.coef_)"
   ]
  },
  {
   "cell_type": "markdown",
   "metadata": {},
   "source": [
    "####  Нарисуем границу принятия решения нашим классификатором"
   ]
  },
  {
   "cell_type": "code",
   "execution_count": null,
   "metadata": {
    "ExecuteTime": {
     "end_time": "2019-10-12T00:18:44.658971Z",
     "start_time": "2019-10-12T00:18:44.144219Z"
    }
   },
   "outputs": [],
   "source": [
    "xx, yy = make_meshgrid(blobs[0][:, 0], blobs[0][:, 1])\n",
    "fig, sub = plt.subplots()\n",
    "plot_contours(sub, log_regressor, xx, yy)\n",
    "sns.scatterplot(x=0, y=1, hue='target', data=tbl, s=100);"
   ]
  },
  {
   "cell_type": "markdown",
   "metadata": {},
   "source": [
    "### Оценка качества по cross-validation"
   ]
  },
  {
   "cell_type": "markdown",
   "metadata": {},
   "source": [
    "#### cross_val_score"
   ]
  },
  {
   "cell_type": "code",
   "execution_count": null,
   "metadata": {
    "ExecuteTime": {
     "end_time": "2019-10-12T00:19:01.868459Z",
     "start_time": "2019-10-12T00:19:01.848529Z"
    }
   },
   "outputs": [],
   "source": [
    "ridge_scoring = model_selection.cross_val_score(ridge_classifier,\n",
    "                                                blobs[0],\n",
    "                                                blobs[1],\n",
    "                                                scoring='accuracy',\n",
    "                                                cv=10)"
   ]
  },
  {
   "cell_type": "code",
   "execution_count": null,
   "metadata": {
    "ExecuteTime": {
     "end_time": "2019-10-12T00:19:02.264700Z",
     "start_time": "2019-10-12T00:19:02.244370Z"
    }
   },
   "outputs": [],
   "source": [
    "lr_scoring = model_selection.cross_val_score(log_regressor,\n",
    "                                             blobs[0],\n",
    "                                             blobs[1],\n",
    "                                             scoring='accuracy',\n",
    "                                             cv=10)"
   ]
  },
  {
   "cell_type": "code",
   "execution_count": null,
   "metadata": {
    "ExecuteTime": {
     "end_time": "2019-10-12T00:19:03.955913Z",
     "start_time": "2019-10-12T00:19:03.952567Z"
    }
   },
   "outputs": [],
   "source": [
    "ridge_scoring"
   ]
  },
  {
   "cell_type": "code",
   "execution_count": null,
   "metadata": {
    "ExecuteTime": {
     "end_time": "2019-10-12T00:19:04.723777Z",
     "start_time": "2019-10-12T00:19:04.720005Z"
    }
   },
   "outputs": [],
   "source": [
    "lr_scoring"
   ]
  },
  {
   "cell_type": "code",
   "execution_count": null,
   "metadata": {
    "ExecuteTime": {
     "end_time": "2019-10-12T00:19:11.855569Z",
     "start_time": "2019-10-12T00:19:11.852218Z"
    }
   },
   "outputs": [],
   "source": [
    "print('Ridge mean:{}, max:{}, min:{}, std:{:2f}'.format(ridge_scoring.mean(),\n",
    "                                                        ridge_scoring.max(),\n",
    "                                                        ridge_scoring.min(),\n",
    "                                                        ridge_scoring.std()))"
   ]
  },
  {
   "cell_type": "code",
   "execution_count": null,
   "metadata": {
    "ExecuteTime": {
     "end_time": "2019-10-12T00:19:19.533832Z",
     "start_time": "2019-10-12T00:19:19.530344Z"
    }
   },
   "outputs": [],
   "source": [
    "print('Log mean:{}, max:{}, min:{}, std:{}'.format(lr_scoring.mean(),\n",
    "                                                   lr_scoring.max(), \n",
    "                                                   lr_scoring.min(),\n",
    "                                                   lr_scoring.std()))"
   ]
  },
  {
   "cell_type": "markdown",
   "metadata": {},
   "source": [
    "#### cross_val_score с заданными scorer и cv_strategy"
   ]
  },
  {
   "cell_type": "code",
   "execution_count": null,
   "metadata": {
    "ExecuteTime": {
     "end_time": "2019-10-11T23:56:02.313337Z",
     "start_time": "2019-10-11T23:56:02.310578Z"
    }
   },
   "outputs": [],
   "source": [
    "scorer = metrics.make_scorer(metrics.accuracy_score)"
   ]
  },
  {
   "cell_type": "code",
   "execution_count": null,
   "metadata": {
    "ExecuteTime": {
     "end_time": "2019-10-11T23:56:02.502360Z",
     "start_time": "2019-10-11T23:56:02.499535Z"
    }
   },
   "outputs": [],
   "source": [
    "cv_strategy = model_selection.StratifiedShuffleSplit(n_splits=20,\n",
    "                                                     test_size=0.3,\n",
    "                                                     random_state=2)"
   ]
  },
  {
   "cell_type": "code",
   "execution_count": null,
   "metadata": {
    "ExecuteTime": {
     "end_time": "2019-10-11T23:56:02.716078Z",
     "start_time": "2019-10-11T23:56:02.675154Z"
    }
   },
   "outputs": [],
   "source": [
    "ridge_scoring = model_selection.cross_val_score(ridge_classifier,\n",
    "                                                blobs[0],\n",
    "                                                blobs[1],\n",
    "                                                scoring=scorer,\n",
    "                                                cv=cv_strategy.split(X=blobs[0], y=blobs[1]))"
   ]
  },
  {
   "cell_type": "code",
   "execution_count": null,
   "metadata": {
    "ExecuteTime": {
     "end_time": "2019-10-11T23:56:02.886927Z",
     "start_time": "2019-10-11T23:56:02.846437Z"
    }
   },
   "outputs": [],
   "source": [
    "lr_scoring = model_selection.cross_val_score(log_regressor,\n",
    "                                             blobs[0],\n",
    "                                             blobs[1],\n",
    "                                             scoring=scorer,\n",
    "                                             cv=cv_strategy.split(X=blobs[0], y=blobs[1]))"
   ]
  },
  {
   "cell_type": "code",
   "execution_count": null,
   "metadata": {
    "ExecuteTime": {
     "end_time": "2019-10-11T23:56:03.014112Z",
     "start_time": "2019-10-11T23:56:03.010490Z"
    }
   },
   "outputs": [],
   "source": [
    "print('Ridge mean:{}, max:{}, min:{}, std:{}'.format(ridge_scoring.mean(),\n",
    "                                                     ridge_scoring.max(), \n",
    "                                                     ridge_scoring.min(),\n",
    "                                                     ridge_scoring.std()))"
   ]
  },
  {
   "cell_type": "code",
   "execution_count": null,
   "metadata": {
    "ExecuteTime": {
     "end_time": "2019-10-11T23:56:03.190093Z",
     "start_time": "2019-10-11T23:56:03.186640Z"
    }
   },
   "outputs": [],
   "source": [
    "print('Log mean:{}, max:{}, min:{}, std:{}'.format(lr_scoring.mean(),\n",
    "                                                   lr_scoring.max(), \n",
    "                                                   lr_scoring.min(), \n",
    "                                                   lr_scoring.std()))"
   ]
  },
  {
   "cell_type": "code",
   "execution_count": null,
   "metadata": {},
   "outputs": [],
   "source": []
  },
  {
   "cell_type": "code",
   "execution_count": null,
   "metadata": {},
   "outputs": [],
   "source": []
  }
 ],
 "metadata": {
  "kernelspec": {
   "display_name": "python343",
   "language": "python",
   "name": "python343"
  },
  "language_info": {
   "codemirror_mode": {
    "name": "ipython",
    "version": 3
   },
   "file_extension": ".py",
   "mimetype": "text/x-python",
   "name": "python",
   "nbconvert_exporter": "python",
   "pygments_lexer": "ipython3",
   "version": "3.7.4"
  },
  "toc": {
   "base_numbering": 1,
   "nav_menu": {},
   "number_sections": true,
   "sideBar": true,
   "skip_h1_title": false,
   "title_cell": "Table of Contents",
   "title_sidebar": "Contents",
   "toc_cell": false,
   "toc_position": {},
   "toc_section_display": true,
   "toc_window_display": false
  }
 },
 "nbformat": 4,
 "nbformat_minor": 1
}
