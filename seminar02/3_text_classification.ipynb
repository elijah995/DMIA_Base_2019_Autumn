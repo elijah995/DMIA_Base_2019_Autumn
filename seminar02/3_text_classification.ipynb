{
 "cells": [
  {
   "cell_type": "markdown",
   "metadata": {},
   "source": [
    "# Линейные модели в классификации текстов\n",
    "Основано на материалах подготовленных Ильей Ирхиным"
   ]
  },
  {
   "cell_type": "code",
   "execution_count": null,
   "metadata": {
    "ExecuteTime": {
     "end_time": "2019-10-11T23:28:41.765840Z",
     "start_time": "2019-10-11T23:28:41.763501Z"
    }
   },
   "outputs": [],
   "source": [
    "import ssl\n",
    "\n",
    "ssl._create_default_https_context = ssl._create_unverified_context"
   ]
  },
  {
   "cell_type": "code",
   "execution_count": null,
   "metadata": {
    "ExecuteTime": {
     "end_time": "2019-10-11T23:28:41.962887Z",
     "start_time": "2019-10-11T23:28:41.960224Z"
    }
   },
   "outputs": [],
   "source": [
    "import heapq\n",
    "\n",
    "import numpy as np\n",
    "\n",
    "from IPython.display import Image\n",
    "from sklearn.datasets import fetch_20newsgroups"
   ]
  },
  {
   "cell_type": "markdown",
   "metadata": {},
   "source": [
    "## Посмотрим на данные"
   ]
  },
  {
   "cell_type": "code",
   "execution_count": null,
   "metadata": {
    "ExecuteTime": {
     "end_time": "2019-10-11T23:28:43.636555Z",
     "start_time": "2019-10-11T23:28:43.428718Z"
    }
   },
   "outputs": [],
   "source": [
    "dataset = fetch_20newsgroups()"
   ]
  },
  {
   "cell_type": "markdown",
   "metadata": {},
   "source": [
    "### Пример элемента выборки"
   ]
  },
  {
   "cell_type": "code",
   "execution_count": null,
   "metadata": {
    "ExecuteTime": {
     "end_time": "2019-10-11T23:28:56.137489Z",
     "start_time": "2019-10-11T23:28:56.133867Z"
    },
    "scrolled": false
   },
   "outputs": [],
   "source": [
    "print('Features\\n\\n', dataset['data'][0])\n",
    "print('Target\\n\\n', dataset.target[0])"
   ]
  },
  {
   "cell_type": "markdown",
   "metadata": {},
   "source": [
    "### Категории"
   ]
  },
  {
   "cell_type": "code",
   "execution_count": null,
   "metadata": {
    "ExecuteTime": {
     "end_time": "2019-10-11T23:29:26.370640Z",
     "start_time": "2019-10-11T23:29:26.366987Z"
    }
   },
   "outputs": [],
   "source": [
    "dataset.target_names"
   ]
  },
  {
   "cell_type": "markdown",
   "metadata": {},
   "source": [
    "### Train и test выборки"
   ]
  },
  {
   "cell_type": "markdown",
   "metadata": {},
   "source": [
    "Возьмём 2 темы из одного раздела, возможно, их будет сложно отличить друг от друга"
   ]
  },
  {
   "cell_type": "code",
   "execution_count": null,
   "metadata": {
    "ExecuteTime": {
     "end_time": "2019-10-11T23:28:14.472750Z",
     "start_time": "2019-10-11T23:28:12.532666Z"
    }
   },
   "outputs": [],
   "source": [
    "categories = [\n",
    "    'rec.sport.baseball',\n",
    "    'rec.sport.hockey'\n",
    "]\n",
    "train_data = fetch_20newsgroups(subset='train',\n",
    "                                categories=categories,\n",
    "                                remove=('headers', 'footers', 'quotes'))\n",
    "test_data = fetch_20newsgroups(subset='test',\n",
    "                               categories=categories,\n",
    "                               remove=('headers', 'footers', 'quotes'))"
   ]
  },
  {
   "cell_type": "code",
   "execution_count": null,
   "metadata": {
    "ExecuteTime": {
     "end_time": "2019-10-11T23:28:15.692826Z",
     "start_time": "2019-10-11T23:28:15.689045Z"
    }
   },
   "outputs": [],
   "source": [
    "print('# examples in train', len(train_data.data))\n",
    "print('# examples in test', len(test_data.data))"
   ]
  },
  {
   "cell_type": "markdown",
   "metadata": {},
   "source": [
    "## Приведем данные к виду, с которым можно работать"
   ]
  },
  {
   "cell_type": "markdown",
   "metadata": {},
   "source": [
    "### Векторизация"
   ]
  },
  {
   "cell_type": "markdown",
   "metadata": {},
   "source": [
    "Для векторизации текстов воспользуемся CountVectorizer, он представляет документ как мешок слов. Можно всячески варировать извлечение признаков (убирать редкие слова, убирать частые слова, убирать слова общей лексики, брать биграмы и т.д.)"
   ]
  },
  {
   "cell_type": "code",
   "execution_count": null,
   "metadata": {
    "scrolled": true
   },
   "outputs": [],
   "source": [
    "Image('pics/bag_of_words.png', width=600)"
   ]
  },
  {
   "cell_type": "code",
   "execution_count": null,
   "metadata": {
    "ExecuteTime": {
     "end_time": "2019-10-11T23:31:11.011433Z",
     "start_time": "2019-10-11T23:31:11.008775Z"
    }
   },
   "outputs": [],
   "source": [
    "from sklearn.feature_extraction.text import CountVectorizer"
   ]
  },
  {
   "cell_type": "code",
   "execution_count": null,
   "metadata": {
    "ExecuteTime": {
     "end_time": "2019-10-11T23:31:11.521254Z",
     "start_time": "2019-10-11T23:31:11.513757Z"
    }
   },
   "outputs": [],
   "source": [
    "CountVectorizer()"
   ]
  },
  {
   "cell_type": "code",
   "execution_count": null,
   "metadata": {
    "ExecuteTime": {
     "end_time": "2019-10-11T23:32:54.658233Z",
     "start_time": "2019-10-11T23:32:54.642589Z"
    }
   },
   "outputs": [],
   "source": [
    "count_vectorizer = CountVectorizer(min_df=3, ngram_range=(1, 2)) "
   ]
  },
  {
   "cell_type": "markdown",
   "metadata": {},
   "source": [
    "Мы будем работать с эффективным представлением матриц \"Compressed Sparse Row Format\" (CSR). Почитать о формате можно здесь: https://en.wikipedia.org/wiki/Sparse_matrix#Compressed_sparse_row_(CSR,_CRS_or_Yale_format)"
   ]
  },
  {
   "cell_type": "code",
   "execution_count": null,
   "metadata": {
    "ExecuteTime": {
     "end_time": "2019-10-11T23:38:15.897840Z",
     "start_time": "2019-10-11T23:38:15.324128Z"
    }
   },
   "outputs": [],
   "source": [
    "sparse_feature_matrix = count_vectorizer.fit_transform(train_data.data)\n",
    "dense_feature_matrix = sparse_feature_matrix.toarray()"
   ]
  },
  {
   "cell_type": "code",
   "execution_count": null,
   "metadata": {
    "ExecuteTime": {
     "end_time": "2019-10-11T23:38:18.970918Z",
     "start_time": "2019-10-11T23:38:18.967897Z"
    }
   },
   "outputs": [],
   "source": [
    "print('Dense matrix shape', dense_feature_matrix.data.shape)\n",
    "print('Sparse matrix shape', sparse_feature_matrix.shape)"
   ]
  },
  {
   "cell_type": "code",
   "execution_count": null,
   "metadata": {
    "ExecuteTime": {
     "end_time": "2019-10-11T23:38:21.359199Z",
     "start_time": "2019-10-11T23:38:21.343820Z"
    }
   },
   "outputs": [],
   "source": [
    "%%time\n",
    "dense_feature_matrix.sum()"
   ]
  },
  {
   "cell_type": "code",
   "execution_count": null,
   "metadata": {
    "ExecuteTime": {
     "end_time": "2019-10-11T23:38:22.483541Z",
     "start_time": "2019-10-11T23:38:22.479066Z"
    }
   },
   "outputs": [],
   "source": [
    "%%time\n",
    "sparse_feature_matrix.sum()"
   ]
  },
  {
   "cell_type": "markdown",
   "metadata": {},
   "source": [
    "### Словарь токен-слово"
   ]
  },
  {
   "cell_type": "markdown",
   "metadata": {},
   "source": [
    "Соберем обратный словарь, в котором каждому токену (номеру) будет сопоставлено слово из оригинального словаря"
   ]
  },
  {
   "cell_type": "code",
   "execution_count": null,
   "metadata": {
    "ExecuteTime": {
     "end_time": "2019-10-11T23:38:46.673644Z",
     "start_time": "2019-10-11T23:38:46.668467Z"
    }
   },
   "outputs": [],
   "source": [
    "num_2_words = {\n",
    "    v: k\n",
    "    for k, v in count_vectorizer.vocabulary_.items()\n",
    "}"
   ]
  },
  {
   "cell_type": "markdown",
   "metadata": {},
   "source": [
    "## Начнем обучать линейные модели"
   ]
  },
  {
   "cell_type": "code",
   "execution_count": null,
   "metadata": {
    "ExecuteTime": {
     "end_time": "2019-10-11T23:38:58.529828Z",
     "start_time": "2019-10-11T23:38:58.462147Z"
    }
   },
   "outputs": [],
   "source": [
    "from sklearn.linear_model import LogisticRegression\n",
    "from sklearn.metrics import accuracy_score\n",
    "from sklearn.model_selection import cross_val_score"
   ]
  },
  {
   "cell_type": "markdown",
   "metadata": {},
   "source": [
    "### Обучим логистическую регрессию предсказывать тему документа"
   ]
  },
  {
   "cell_type": "code",
   "execution_count": null,
   "metadata": {
    "ExecuteTime": {
     "end_time": "2019-10-11T23:39:03.294030Z",
     "start_time": "2019-10-11T23:39:03.100001Z"
    }
   },
   "outputs": [],
   "source": [
    "algo = LogisticRegression()\n",
    "algo.fit(dense_feature_matrix, train_data.target)"
   ]
  },
  {
   "cell_type": "markdown",
   "metadata": {},
   "source": [
    "Слова с наименьшим отрицательным весом являются характерными словами класса 0\n",
    "\n",
    "Слова с наибольшим положительным весом являются характерными словами класса 1"
   ]
  },
  {
   "cell_type": "code",
   "execution_count": null,
   "metadata": {
    "ExecuteTime": {
     "end_time": "2019-10-11T23:39:07.557247Z",
     "start_time": "2019-10-11T23:39:07.540200Z"
    }
   },
   "outputs": [],
   "source": [
    "W = algo.coef_.shape[1]\n",
    "NUM_WORDS = 10\n",
    "class_2_function = {'Baseball': heapq.nsmallest, 'Hockey': heapq.nlargest}\n",
    "\n",
    "for category, function in class_2_function.items():\n",
    "    topic_words = [\n",
    "        num_2_words[w_num]\n",
    "        for w_num in function(NUM_WORDS, range(W), key=lambda w: algo.coef_[0, w])\n",
    "    ]\n",
    "    print(category)\n",
    "    print(', '.join(topic_words))"
   ]
  },
  {
   "cell_type": "markdown",
   "metadata": {},
   "source": [
    "### Оценим качество\n",
    "\n",
    "Сравним качество на фолдах с качеством на трейне и на отложенном тесте"
   ]
  },
  {
   "cell_type": "code",
   "execution_count": null,
   "metadata": {
    "ExecuteTime": {
     "end_time": "2019-10-11T23:39:10.691503Z",
     "start_time": "2019-10-11T23:39:09.756037Z"
    }
   },
   "outputs": [],
   "source": [
    "algo = LogisticRegression()\n",
    "arr = cross_val_score(algo, dense_feature_matrix, train_data.target, cv=5, scoring='accuracy')\n",
    "print(arr)\n",
    "print(np.mean(arr))"
   ]
  },
  {
   "cell_type": "markdown",
   "metadata": {},
   "source": [
    "Почему это неправильная кроссвалидация?"
   ]
  },
  {
   "cell_type": "code",
   "execution_count": null,
   "metadata": {},
   "outputs": [],
   "source": [
    "algo.fit(dense_feature_matrix, train_data.target)"
   ]
  },
  {
   "cell_type": "code",
   "execution_count": null,
   "metadata": {
    "scrolled": true
   },
   "outputs": [],
   "source": [
    "print('Train accuracy', accuracy_score(algo.predict(dense_feature_matrix), train_data.target))\n",
    "print('Test accuracy', accuracy_score(algo.predict(count_vectorizer.transform(test_data.data)), test_data.target))"
   ]
  },
  {
   "cell_type": "markdown",
   "metadata": {
    "collapsed": true
   },
   "source": [
    "Мы видим переобучение, почему?"
   ]
  },
  {
   "cell_type": "markdown",
   "metadata": {},
   "source": [
    "### Регуляризация"
   ]
  },
  {
   "cell_type": "markdown",
   "metadata": {},
   "source": [
    "Добавим l1 - регуляризатор с коэффициентом 0.1"
   ]
  },
  {
   "cell_type": "code",
   "execution_count": null,
   "metadata": {
    "ExecuteTime": {
     "end_time": "2019-10-11T23:45:24.674718Z",
     "start_time": "2019-10-11T23:45:24.154857Z"
    },
    "scrolled": false
   },
   "outputs": [],
   "source": [
    "algo = LogisticRegression(penalty='l1', C=0.1)\n",
    "arr = cross_val_score(algo, dense_feature_matrix, train_data.target, cv=5, scoring='accuracy')\n",
    "print(arr)\n",
    "print(np.mean(arr))"
   ]
  },
  {
   "cell_type": "code",
   "execution_count": null,
   "metadata": {
    "ExecuteTime": {
     "end_time": "2019-10-11T23:45:24.699566Z",
     "start_time": "2019-10-11T23:45:24.676659Z"
    },
    "scrolled": true
   },
   "outputs": [],
   "source": [
    "algo.fit(sparse_feature_matrix, train_data.target)"
   ]
  },
  {
   "cell_type": "code",
   "execution_count": null,
   "metadata": {
    "ExecuteTime": {
     "end_time": "2019-10-11T23:45:24.918407Z",
     "start_time": "2019-10-11T23:45:24.701528Z"
    },
    "scrolled": true
   },
   "outputs": [],
   "source": [
    "print('Train accuracy', accuracy_score(algo.predict(dense_feature_matrix), train_data.target))\n",
    "print('Test accuracy', accuracy_score(algo.predict(count_vectorizer.transform(test_data.data)), test_data.target))"
   ]
  },
  {
   "cell_type": "markdown",
   "metadata": {},
   "source": [
    "Добавление регуляризатора уменьшает отличие на трейне и тесте, но ухудшает качество."
   ]
  },
  {
   "cell_type": "markdown",
   "metadata": {
    "collapsed": true
   },
   "source": [
    "## Pipeline"
   ]
  },
  {
   "cell_type": "markdown",
   "metadata": {},
   "source": [
    "Чтобы не делать векторизацию и обучение раздельно, есть класс Pipeline. Он позволяет объединить в цепочку последовательность действий."
   ]
  },
  {
   "cell_type": "code",
   "execution_count": null,
   "metadata": {
    "ExecuteTime": {
     "end_time": "2019-10-11T23:45:33.130078Z",
     "start_time": "2019-10-11T23:45:33.124998Z"
    }
   },
   "outputs": [],
   "source": [
    "from sklearn.pipeline import Pipeline"
   ]
  },
  {
   "cell_type": "code",
   "execution_count": null,
   "metadata": {
    "ExecuteTime": {
     "end_time": "2019-10-11T23:46:38.561179Z",
     "start_time": "2019-10-11T23:46:38.558531Z"
    }
   },
   "outputs": [],
   "source": [
    "pipeline = Pipeline([(\"vectorizer\", CountVectorizer(min_df=3, ngram_range=(1, 2))),\n",
    "                     (\"algo\", LogisticRegression())])"
   ]
  },
  {
   "cell_type": "code",
   "execution_count": null,
   "metadata": {
    "ExecuteTime": {
     "end_time": "2019-10-11T23:46:39.502666Z",
     "start_time": "2019-10-11T23:46:38.903429Z"
    }
   },
   "outputs": [],
   "source": [
    "pipeline.fit(train_data.data, train_data.target)"
   ]
  },
  {
   "cell_type": "code",
   "execution_count": null,
   "metadata": {
    "ExecuteTime": {
     "end_time": "2019-10-11T23:46:43.876975Z",
     "start_time": "2019-10-11T23:46:43.464422Z"
    }
   },
   "outputs": [],
   "source": [
    "print('Train accuracy', accuracy_score(pipeline.predict(train_data.data), train_data.target))\n",
    "print('Test accuracy', accuracy_score(pipeline.predict(test_data.data), test_data.target))"
   ]
  },
  {
   "cell_type": "markdown",
   "metadata": {},
   "source": [
    "Значения примерно такие же как мы получали ранее, делая шаги раздельно."
   ]
  },
  {
   "cell_type": "code",
   "execution_count": null,
   "metadata": {
    "ExecuteTime": {
     "end_time": "2019-10-11T23:46:48.419158Z",
     "start_time": "2019-10-11T23:46:48.416691Z"
    }
   },
   "outputs": [],
   "source": [
    "from sklearn.pipeline import make_pipeline"
   ]
  },
  {
   "cell_type": "markdown",
   "metadata": {},
   "source": [
    "При кроссвалидации нужно, чтобы CountVectorizer не обучался на тесте. Pipeline позволяет это сделать просто."
   ]
  },
  {
   "cell_type": "code",
   "execution_count": null,
   "metadata": {
    "ExecuteTime": {
     "end_time": "2019-10-11T23:47:23.302748Z",
     "start_time": "2019-10-11T23:47:20.647696Z"
    },
    "scrolled": true
   },
   "outputs": [],
   "source": [
    "pipeline = make_pipeline(CountVectorizer(min_df=3, ngram_range=(1, 2)),\n",
    "                         LogisticRegression())\n",
    "arr = cross_val_score(pipeline, train_data.data, train_data.target, cv=5, scoring='accuracy')\n",
    "print(arr)\n",
    "print(np.mean(arr))"
   ]
  },
  {
   "cell_type": "code",
   "execution_count": null,
   "metadata": {
    "ExecuteTime": {
     "end_time": "2019-10-11T23:47:28.942414Z",
     "start_time": "2019-10-11T23:47:27.498666Z"
    }
   },
   "outputs": [],
   "source": [
    "pipeline = make_pipeline(CountVectorizer(min_df=3, ngram_range=(1, 2)),\n",
    "                         LogisticRegression())\n",
    "arr = cross_val_score(pipeline, train_data.data, train_data.target, cv=3, scoring='accuracy')\n",
    "print(arr)\n",
    "print(np.mean(arr))"
   ]
  },
  {
   "cell_type": "markdown",
   "metadata": {},
   "source": [
    "В Pipeline можно добавлять новые шаги препроцессинга данных."
   ]
  },
  {
   "cell_type": "code",
   "execution_count": null,
   "metadata": {
    "ExecuteTime": {
     "end_time": "2019-10-11T23:47:50.416633Z",
     "start_time": "2019-10-11T23:47:50.413939Z"
    }
   },
   "outputs": [],
   "source": [
    "from sklearn.feature_extraction.text import TfidfTransformer"
   ]
  },
  {
   "cell_type": "code",
   "execution_count": null,
   "metadata": {
    "ExecuteTime": {
     "end_time": "2019-10-11T23:47:50.844376Z",
     "start_time": "2019-10-11T23:47:50.839336Z"
    }
   },
   "outputs": [],
   "source": [
    "Image('pics/tfidf.png')"
   ]
  },
  {
   "cell_type": "markdown",
   "metadata": {},
   "source": [
    "Подробнее про tf-idf можно прочитать здесь: https://ru.wikipedia.org/wiki/TF-IDF"
   ]
  },
  {
   "cell_type": "code",
   "execution_count": null,
   "metadata": {
    "ExecuteTime": {
     "end_time": "2019-10-11T23:47:55.253557Z",
     "start_time": "2019-10-11T23:47:52.686312Z"
    }
   },
   "outputs": [],
   "source": [
    "pipeline = make_pipeline(CountVectorizer(min_df=3, ngram_range=(1, 2)),\n",
    "                         TfidfTransformer(),\n",
    "                         LogisticRegression())\n",
    "arr = cross_val_score(pipeline, train_data.data, train_data.target, cv=5, scoring='accuracy')\n",
    "print(arr)\n",
    "print(np.mean(arr))"
   ]
  },
  {
   "cell_type": "code",
   "execution_count": null,
   "metadata": {
    "ExecuteTime": {
     "end_time": "2019-10-11T23:47:56.707695Z",
     "start_time": "2019-10-11T23:47:56.164406Z"
    }
   },
   "outputs": [],
   "source": [
    "pipeline.fit(train_data.data, train_data.target)"
   ]
  },
  {
   "cell_type": "code",
   "execution_count": null,
   "metadata": {
    "ExecuteTime": {
     "end_time": "2019-10-11T23:48:03.501516Z",
     "start_time": "2019-10-11T23:48:03.062891Z"
    }
   },
   "outputs": [],
   "source": [
    "print('Train accuracy', accuracy_score(pipeline.predict(train_data.data), train_data.target))\n",
    "print('Test accuracy', accuracy_score(pipeline.predict(test_data.data), test_data.target))"
   ]
  },
  {
   "cell_type": "code",
   "execution_count": null,
   "metadata": {},
   "outputs": [],
   "source": []
  }
 ],
 "metadata": {
  "kernelspec": {
   "display_name": "python343",
   "language": "python",
   "name": "python343"
  },
  "language_info": {
   "codemirror_mode": {
    "name": "ipython",
    "version": 3
   },
   "file_extension": ".py",
   "mimetype": "text/x-python",
   "name": "python",
   "nbconvert_exporter": "python",
   "pygments_lexer": "ipython3",
   "version": "3.7.4"
  },
  "toc": {
   "base_numbering": 1,
   "nav_menu": {},
   "number_sections": true,
   "sideBar": true,
   "skip_h1_title": false,
   "title_cell": "Table of Contents",
   "title_sidebar": "Contents",
   "toc_cell": false,
   "toc_position": {},
   "toc_section_display": true,
   "toc_window_display": false
  }
 },
 "nbformat": 4,
 "nbformat_minor": 1
}
